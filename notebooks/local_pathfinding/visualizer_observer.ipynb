{
 "cells": [
  {
   "cell_type": "code",
   "execution_count": 4,
   "id": "2f37d372",
   "metadata": {},
   "outputs": [
    {
     "name": "stdout",
     "output_type": "stream",
     "text": [
      "Defaulting to user installation because normal site-packages is not writeable\n",
      "Collecting plotly\n",
      "  Downloading plotly-6.0.1-py3-none-any.whl (14.8 MB)\n",
      "\u001b[2K     \u001b[90m━━━━━━━━━━━━━━━━━━━━━━━━━━━━━━━━━━━━━━━━\u001b[0m \u001b[32m14.8/14.8 MB\u001b[0m \u001b[31m17.6 MB/s\u001b[0m eta \u001b[36m0:00:00\u001b[0m00:01\u001b[0m00:01\u001b[0m\n",
      "\u001b[?25hRequirement already satisfied: packaging in /usr/lib/python3/dist-packages (from plotly) (21.3)\n",
      "Collecting narwhals>=1.15.1\n",
      "  Downloading narwhals-1.33.0-py3-none-any.whl (322 kB)\n",
      "\u001b[2K     \u001b[90m━━━━━━━━━━━━━━━━━━━━━━━━━━━━━━━━━━━━━━\u001b[0m \u001b[32m322.8/322.8 KB\u001b[0m \u001b[31m16.7 MB/s\u001b[0m eta \u001b[36m0:00:00\u001b[0m\n",
      "\u001b[?25hInstalling collected packages: narwhals, plotly\n",
      "Successfully installed narwhals-1.33.0 plotly-6.0.1\n"
     ]
    }
   ],
   "source": [
    "!pip install plotly"
   ]
  },
  {
   "cell_type": "code",
   "execution_count": 5,
   "id": "cb72fc35",
   "metadata": {},
   "outputs": [],
   "source": [
    "import numpy as np\n",
    "import plotly.graph_objects as go"
   ]
  },
  {
   "cell_type": "markdown",
   "id": "c5590f00",
   "metadata": {},
   "source": [
    "# Base Map Overlay visualizer"
   ]
  },
  {
   "cell_type": "code",
   "execution_count": null,
   "id": "6d4e7f5d",
   "metadata": {},
   "outputs": [],
   "source": [
    "# Define your waypoints (lat, lon)\n",
    "waypoints = [\n",
    "    (49.2827, -123.1207),  # Vancouver\n",
    "    (48.4284, -123.3656),  # Victoria\n",
    "    (47.6062, -122.3321),  # Seattle\n",
    "    (45.5122, -122.6587)   # Portland\n",
    "]\n",
    "\n",
    "# Interpolate between waypoints\n",
    "def interpolate_waypoints(points, steps=50):\n",
    "    path = []\n",
    "    for i in range(len(points) - 1):\n",
    "        lat0, lon0 = points[i]\n",
    "        lat1, lon1 = points[i + 1]\n",
    "        lats = np.linspace(lat0, lat1, steps)\n",
    "        lons = np.linspace(lon0, lon1, steps)\n",
    "        path.extend(zip(lats, lons))\n",
    "    return path\n",
    "\n",
    "# Generate interpolated path\n",
    "boat_path = interpolate_waypoints(waypoints, steps=50)\n",
    "\n",
    "# Create the base frame with waypoints\n",
    "waypoint_trace = go.Scattergeo(\n",
    "    lon=[lon for lat, lon in waypoints],\n",
    "    lat=[lat for lat, lon in waypoints],\n",
    "    mode='markers+text',\n",
    "    marker=dict(size=8, color='red'),\n",
    "    text=[\"Vancouver\", \"Victoria\", \"Seattle\", \"Portland\"],\n",
    "    textposition='top center',\n",
    "    name='Waypoints'\n",
    ")\n",
    "\n",
    "# Initial boat marker\n",
    "boat_trace = go.Scattergeo(\n",
    "    lon=[boat_path[0][1]],\n",
    "    lat=[boat_path[0][0]],\n",
    "    mode='markers',\n",
    "    marker=dict(size=12, color='blue', symbol='triangle-up'),\n",
    "    name='Boat'\n",
    ")\n",
    "\n",
    "# Create animation frames\n",
    "frames = [\n",
    "    go.Frame(\n",
    "        data=[\n",
    "            go.Scattergeo(\n",
    "                lon=[lon],\n",
    "                lat=[lat],\n",
    "                mode='markers',\n",
    "                marker=dict(size=12, color='blue', symbol='triangle-up'),\n",
    "                name='Boat'\n",
    "            )\n",
    "        ],\n",
    "        name=str(i)\n",
    "    )\n",
    "    for i, (lat, lon) in enumerate(boat_path)\n",
    "]\n",
    "\n",
    "# Create figure\n",
    "fig = go.Figure(\n",
    "    data=[waypoint_trace, boat_trace],\n",
    "    frames=frames,\n",
    "    layout=go.Layout(\n",
    "        title=\"Interactive Boat Journey\",\n",
    "        geo=dict(\n",
    "            scope='north america',\n",
    "            projection_type='mercator',\n",
    "            showland=True,\n",
    "            landcolor='lightgray',\n",
    "            showocean=True,\n",
    "            oceancolor='lightblue',\n",
    "        ),\n",
    "        updatemenus=[dict(\n",
    "            type='buttons',\n",
    "            showactive=False,\n",
    "            buttons=[\n",
    "                dict(\n",
    "                    label='Play',\n",
    "                    method='animate',\n",
    "                    args=[None, {\n",
    "                        'frame': {'duration': 50, 'redraw': True},\n",
    "                        'fromcurrent': True,\n",
    "                        'transition': {'duration': 0}\n",
    "                    }]\n",
    "                )\n",
    "            ]\n",
    "        )]\n",
    "    )\n",
    ")\n",
    "\n",
    "fig.show()"
   ]
  }
 ],
 "metadata": {
  "kernelspec": {
   "display_name": "usr",
   "language": "python",
   "name": "python3"
  },
  "language_info": {
   "codemirror_mode": {
    "name": "ipython",
    "version": 3
   },
   "file_extension": ".py",
   "mimetype": "text/x-python",
   "name": "python",
   "nbconvert_exporter": "python",
   "pygments_lexer": "ipython3",
   "version": "3.10.12"
  }
 },
 "nbformat": 4,
 "nbformat_minor": 5
}
