{
 "cells": [
  {
   "cell_type": "markdown",
   "id": "2f37d372",
   "metadata": {},
   "source": [
    "pip3 install plotly==5.24.1 \n",
    "pip3 install folium==0.17.0\n",
    "pip3 install mapclassify==2.8.1\n",
    "pip3 install matplotlib==3.5.1 \n",
    "pip3 install numpy==1.24.0\n",
    "pip3 install numba==0.60.0"
   ]
  },
  {
   "cell_type": "code",
   "execution_count": 2,
   "id": "cb72fc35",
   "metadata": {},
   "outputs": [
    {
     "name": "stderr",
     "output_type": "stream",
     "text": [
      "/home/ros/.local/lib/python3.10/site-packages/pandas/core/computation/expressions.py:21: UserWarning: Pandas requires version '2.8.4' or newer of 'numexpr' (version '2.8.1' currently installed).\n",
      "  from pandas.core.computation.check import NUMEXPR_INSTALLED\n",
      "/home/ros/.local/lib/python3.10/site-packages/pandas/core/arrays/masked.py:60: UserWarning: Pandas requires version '1.3.6' or newer of 'bottleneck' (version '1.3.2' currently installed).\n",
      "  from pandas.core import (\n"
     ]
    }
   ],
   "source": [
    "import geopandas as gpd\n",
    "import pandas as pd\n",
    "import numpy as np\n",
    "from typing import Any\n",
    "import pickle as pkl\n",
    "import pyproj\n",
    "from shapely.geometry import Polygon, LineString\n",
    "from shapely.ops import split\n",
    "import plotly.graph_objects as go"
   ]
  },
  {
   "cell_type": "markdown",
   "id": "c5590f00",
   "metadata": {},
   "source": [
    "# Base Map Overlay Visualizer"
   ]
  },
  {
   "cell_type": "markdown",
   "id": "8f9507cd",
   "metadata": {},
   "source": [
    "## Initialization"
   ]
  },
  {
   "cell_type": "code",
   "execution_count": 2,
   "id": "8f6a7025",
   "metadata": {},
   "outputs": [],
   "source": [
    "from shapely.geometry import box, MultiPolygon, Point\n",
    "from typing import Any\n",
    "from custom_interfaces.msg import HelperLatLon, Path\n",
    "from local_pathfinding.coord_systems import latlon_to_xy\n",
    "import plotly.graph_objects as go\n",
    "import numpy as np"
   ]
  },
  {
   "cell_type": "code",
   "execution_count": 21,
   "id": "4129d673",
   "metadata": {},
   "outputs": [
    {
     "name": "stdout",
     "output_type": "stream",
     "text": [
      "Boat History (lat/lon): [{'position': custom_interfaces.msg.HelperLatLon(latitude=49.5, longitude=-139.922429), 'waypoints_lat': [49.208985, 49.567979, 49.979489, 50.331437, 50.722548], 'waypoints_lon': [-139.922429, -140.80775, -141.708892, -142.851804, -144.236486], 'boat_speed': 10.0, 'boat_heading': 0}, {'position': custom_interfaces.msg.HelperLatLon(latitude=49.667979, longitude=-140.80775), 'waypoints_lat': [49.208985, 49.567979, 49.979489, 50.331437, 50.722548], 'waypoints_lon': [-139.922429, -140.80775, -141.708892, -142.851804, -144.236486], 'boat_speed': 5, 'boat_heading': 275}, {'position': custom_interfaces.msg.HelperLatLon(latitude=49.979489, longitude=-141.808892), 'waypoints_lat': [49.208985, 49.567979, 49.979489, 50.331437, 50.722548], 'waypoints_lon': [-139.922429, -140.80775, -141.708892, -142.851804, -144.236486], 'boat_speed': 15, 'boat_heading': 280}, {'position': custom_interfaces.msg.HelperLatLon(latitude=50.331437, longitude=-142.951804), 'waypoints_lat': [49.208985, 49.567979, 49.979489, 50.331437, 50.722548], 'waypoints_lon': [-139.922429, -140.80775, -141.708892, -142.851804, -144.236486], 'boat_speed': 20, 'boat_heading': 285}, {'position': custom_interfaces.msg.HelperLatLon(latitude=50.822548, longitude=-144.336486), 'waypoints_lat': [49.208985, 49.567979, 49.979489, 50.331437, 50.722548], 'waypoints_lon': [-139.922429, -140.80775, -141.708892, -142.851804, -144.236486], 'boat_speed': 9, 'boat_heading': 290}]\n",
      "Boat History (xy): [{'position': XY(x=312.34517749447855, y=-126.93168238699724), 'waypoints_x': [314.20673712159993, 247.9510832987924, 181.26504487814523, 98.58669516653883, 0.0], 'waypoints_y': [-159.25610726968026, -122.71169916368716, -79.57022380629613, -42.5863862318154, -0.0], 'boat_speed': 10.0, 'boat_heading': 0}, {'position': XY(x=247.44133392136484, y=-111.59854737106747), 'waypoints_x': [314.20673712159993, 247.9510832987924, 181.26504487814523, 98.58669516653883, 0.0], 'waypoints_y': [-159.25610726968026, -122.71169916368716, -79.57022380629613, -42.5863862318154, -0.0], 'boat_speed': 5, 'boat_heading': 275}, {'position': XY(x=174.09619607982765, y=-79.80945933956816), 'waypoints_x': [314.20673712159993, 247.9510832987924, 181.26504487814523, 98.58669516653883, 0.0], 'waypoints_y': [-159.25610726968026, -122.71169916368716, -79.57022380629613, -42.5863862318154, -0.0], 'boat_speed': 15, 'boat_heading': 280}, {'position': XY(x=91.46762620443221, y=-42.71453762055684), 'waypoints_x': [314.20673712159993, 247.9510832987924, 181.26504487814523, 98.58669516653883, 0.0], 'waypoints_y': [-159.25610726968026, -122.71169916368716, -79.57022380629613, -42.5863862318154, -0.0], 'boat_speed': 20, 'boat_heading': 285}, {'position': XY(x=-7.046511680402254, y=11.129154129285872), 'waypoints_x': [314.20673712159993, 247.9510832987924, 181.26504487814523, 98.58669516653883, 0.0], 'waypoints_y': [-159.25610726968026, -122.71169916368716, -79.57022380629613, -42.5863862318154, -0.0], 'boat_speed': 9, 'boat_heading': 290}]\n"
     ]
    }
   ],
   "source": [
    "sailbot_position_lat_lons = [\n",
    "    HelperLatLon(latitude=49.50000, longitude=-139.922429),\n",
    "    HelperLatLon(latitude=49.667979, longitude=-140.807750),\n",
    "    HelperLatLon(latitude=49.979489, longitude=-141.808892),\n",
    "    HelperLatLon(latitude=50.331437, longitude=-142.951804),\n",
    "    HelperLatLon(latitude=50.822548, longitude=-144.336486),\n",
    "]\n",
    "local_waypoints_lat_lon = Path(\n",
    "    waypoints=[\n",
    "        HelperLatLon(latitude=49.208985, longitude=-139.922429),\n",
    "        HelperLatLon(latitude=49.567979, longitude=-140.807750),\n",
    "        HelperLatLon(latitude=49.979489, longitude=-141.708892),\n",
    "        HelperLatLon(latitude=50.331437, longitude=-142.851804),\n",
    "        HelperLatLon(latitude=50.722548, longitude=-144.236486),\n",
    "    ]\n",
    ")\n",
    "reference_point_lat_lon = HelperLatLon(\n",
    "    latitude=50.722548, longitude=-144.236486\n",
    ")  # Last global waypoint\n",
    "\n",
    "# Convert lat/lon to xy coordinates\n",
    "sailbot_position_xy = [\n",
    "    latlon_to_xy(reference=reference_point_lat_lon, latlon=sailbot_position_lat_lon)\n",
    "    for sailbot_position_lat_lon in sailbot_position_lat_lons\n",
    "]\n",
    "local_waypoints_xy = [\n",
    "    latlon_to_xy(reference=reference_point_lat_lon, latlon=waypoint)\n",
    "    for waypoint in local_waypoints_lat_lon.waypoints\n",
    "]\n",
    "\n",
    "\n",
    "waypoints_lat = [waypoint.latitude for waypoint in local_waypoints_lat_lon.waypoints]\n",
    "waypoints_lon = [waypoint.longitude for waypoint in local_waypoints_lat_lon.waypoints]\n",
    "\n",
    "waypoints_x = [local_waypoints_xy[i].x for i in range(len(local_waypoints_xy))]\n",
    "waypoints_y = [local_waypoints_xy[i].y for i in range(len(local_waypoints_xy))]\n",
    "\n",
    "boat_speed = [10.0, 5, 15, 20, 9]  # Speed in knots\n",
    "boat_heading = [0, 275, 280, 285, 290]  # Heading in degrees\n",
    "\n",
    "boat_history_lat_lon = [\n",
    "    {\n",
    "        \"position\": sailbot_position_lat_lons[i],\n",
    "        \"waypoints_lat\": waypoints_lat,\n",
    "        \"waypoints_lon\": waypoints_lon,\n",
    "        \"boat_speed\": boat_speed[i],\n",
    "        \"boat_heading\": boat_heading[i],\n",
    "    }\n",
    "    for i in range(5)\n",
    "]\n",
    "\n",
    "boat_history_xy = [\n",
    "    {\n",
    "        \"position\": sailbot_position_xy[i],\n",
    "        \"waypoints_x\": waypoints_x,\n",
    "        \"waypoints_y\": waypoints_y,\n",
    "        \"boat_speed\": boat_speed[i],\n",
    "        \"boat_heading\": boat_heading[i],\n",
    "    }\n",
    "    for i in range(5)\n",
    "]\n",
    "\n",
    "print(\"Boat History (lat/lon):\", boat_history_lat_lon)\n",
    "print(\"Boat History (xy):\", boat_history_xy)\n",
    "\n",
    "current_position = 0"
   ]
  },
  {
   "cell_type": "code",
   "execution_count": null,
   "id": "6d4e7f5d",
   "metadata": {},
   "outputs": [],
   "source": [
    "def load_pkl(file_path: str) -> Any:\n",
    "    with open(file_path, \"rb\") as f:\n",
    "        return pkl.load(f)\n",
    "\n",
    "\n",
    "land_obstacle = load_pkl(\"/workspaces/sailbot_workspace/src/local_pathfinding/land/pkl/land.pkl\")\n",
    "gdf = gpd.read_file(\n",
    "    \"/workspaces/sailbot_workspace/src/local_pathfinding/land/territorial_waters.geojson\"\n",
    ")\n",
    "\n",
    "\n",
    "WGS84 = pyproj.CRS(\"EPSG:4326\")\n",
    "gdf_new = gpd.GeoDataFrame(geometry=[land_obstacle], crs=WGS84)\n",
    "gdf_new.explore()  # Good"
   ]
  },
  {
   "cell_type": "markdown",
   "id": "b56255c2",
   "metadata": {},
   "source": [
    "#"
   ]
  },
  {
   "cell_type": "markdown",
   "id": "82b9fba5",
   "metadata": {},
   "source": [
    "# Local Pathfinding Visualizer Using Plotly (Lat/Lon)"
   ]
  },
  {
   "cell_type": "code",
   "execution_count": 22,
   "id": "057e38de",
   "metadata": {},
   "outputs": [
    {
     "data": {
      "application/vnd.plotly.v1+json": {
       "config": {
        "plotlyServerURL": "https://plot.ly"
       },
       "data": [
        {
         "lat": [
          49.208985
         ],
         "lon": [
          -139.922429
         ],
         "marker": {
          "size": 14
         },
         "mode": "markers",
         "name": "Start",
         "text": [
          "Start"
         ],
         "type": "scattermapbox"
        },
        {
         "lat": [
          49.567979,
          49.979489,
          50.331437
         ],
         "lon": [
          -140.80775,
          -141.708892,
          -142.851804
         ],
         "marker": {
          "size": 14
         },
         "mode": "markers",
         "name": "Intermediate",
         "text": [
          "Intermediate",
          "Intermediate",
          "Intermediate"
         ],
         "type": "scattermapbox"
        },
        {
         "lat": [
          50.722548
         ],
         "lon": [
          -144.236486
         ],
         "marker": {
          "size": 14
         },
         "mode": "markers",
         "name": "Goal",
         "text": [
          "Goal",
          "Goal",
          "Goal"
         ],
         "type": "scattermapbox"
        },
        {
         "lat": [
          49.5
         ],
         "lon": [
          -139.922429
         ],
         "marker": {
          "color": "red",
          "size": 14
         },
         "mode": "markers",
         "name": "Boat",
         "text": [
          "Boat"
         ],
         "type": "scattermapbox"
        }
       ],
       "frames": [
        {
         "data": [
          {
           "lat": [
            49.208985
           ],
           "lon": [
            -139.922429
           ],
           "marker": {
            "size": 14
           },
           "mode": "markers",
           "name": "Start",
           "text": [
            "Start"
           ],
           "type": "scattermapbox"
          },
          {
           "lat": [
            49.567979,
            49.979489,
            50.331437
           ],
           "lon": [
            -140.80775,
            -141.708892,
            -142.851804
           ],
           "marker": {
            "size": 14
           },
           "mode": "markers",
           "name": "Intermediate",
           "text": [
            "Intermediate",
            "Intermediate",
            "Intermediate"
           ],
           "type": "scattermapbox"
          },
          {
           "lat": [
            50.722548
           ],
           "lon": [
            -144.236486
           ],
           "marker": {
            "size": 14
           },
           "mode": "markers",
           "name": "Goal",
           "text": [
            "Goal",
            "Goal",
            "Goal"
           ],
           "type": "scattermapbox"
          },
          {
           "lat": [
            49.5
           ],
           "lon": [
            -139.922429
           ],
           "marker": {
            "color": "red",
            "size": 14
           },
           "mode": "markers",
           "name": "Boat",
           "text": [
            "Boat"
           ],
           "type": "scattermapbox"
          }
         ],
         "name": "Boat 0"
        },
        {
         "data": [
          {
           "lat": [
            49.208985
           ],
           "lon": [
            -139.922429
           ],
           "marker": {
            "size": 14
           },
           "mode": "markers",
           "name": "Start",
           "text": [
            "Start"
           ],
           "type": "scattermapbox"
          },
          {
           "lat": [
            49.567979,
            49.979489,
            50.331437
           ],
           "lon": [
            -140.80775,
            -141.708892,
            -142.851804
           ],
           "marker": {
            "size": 14
           },
           "mode": "markers",
           "name": "Intermediate",
           "text": [
            "Intermediate",
            "Intermediate",
            "Intermediate"
           ],
           "type": "scattermapbox"
          },
          {
           "lat": [
            50.722548
           ],
           "lon": [
            -144.236486
           ],
           "marker": {
            "size": 14
           },
           "mode": "markers",
           "name": "Goal",
           "text": [
            "Goal",
            "Goal",
            "Goal"
           ],
           "type": "scattermapbox"
          },
          {
           "lat": [
            49.667979
           ],
           "lon": [
            -140.80775
           ],
           "marker": {
            "color": "red",
            "size": 14
           },
           "mode": "markers",
           "name": "Boat",
           "text": [
            "Boat"
           ],
           "type": "scattermapbox"
          }
         ],
         "name": "Boat 1"
        },
        {
         "data": [
          {
           "lat": [
            49.208985
           ],
           "lon": [
            -139.922429
           ],
           "marker": {
            "size": 14
           },
           "mode": "markers",
           "name": "Start",
           "text": [
            "Start"
           ],
           "type": "scattermapbox"
          },
          {
           "lat": [
            49.567979,
            49.979489,
            50.331437
           ],
           "lon": [
            -140.80775,
            -141.708892,
            -142.851804
           ],
           "marker": {
            "size": 14
           },
           "mode": "markers",
           "name": "Intermediate",
           "text": [
            "Intermediate",
            "Intermediate",
            "Intermediate"
           ],
           "type": "scattermapbox"
          },
          {
           "lat": [
            50.722548
           ],
           "lon": [
            -144.236486
           ],
           "marker": {
            "size": 14
           },
           "mode": "markers",
           "name": "Goal",
           "text": [
            "Goal",
            "Goal",
            "Goal"
           ],
           "type": "scattermapbox"
          },
          {
           "lat": [
            49.979489
           ],
           "lon": [
            -141.808892
           ],
           "marker": {
            "color": "red",
            "size": 14
           },
           "mode": "markers",
           "name": "Boat",
           "text": [
            "Boat"
           ],
           "type": "scattermapbox"
          }
         ],
         "name": "Boat 2"
        },
        {
         "data": [
          {
           "lat": [
            49.208985
           ],
           "lon": [
            -139.922429
           ],
           "marker": {
            "size": 14
           },
           "mode": "markers",
           "name": "Start",
           "text": [
            "Start"
           ],
           "type": "scattermapbox"
          },
          {
           "lat": [
            49.567979,
            49.979489,
            50.331437
           ],
           "lon": [
            -140.80775,
            -141.708892,
            -142.851804
           ],
           "marker": {
            "size": 14
           },
           "mode": "markers",
           "name": "Intermediate",
           "text": [
            "Intermediate",
            "Intermediate",
            "Intermediate"
           ],
           "type": "scattermapbox"
          },
          {
           "lat": [
            50.722548
           ],
           "lon": [
            -144.236486
           ],
           "marker": {
            "size": 14
           },
           "mode": "markers",
           "name": "Goal",
           "text": [
            "Goal",
            "Goal",
            "Goal"
           ],
           "type": "scattermapbox"
          },
          {
           "lat": [
            50.331437
           ],
           "lon": [
            -142.951804
           ],
           "marker": {
            "color": "red",
            "size": 14
           },
           "mode": "markers",
           "name": "Boat",
           "text": [
            "Boat"
           ],
           "type": "scattermapbox"
          }
         ],
         "name": "Boat 3"
        },
        {
         "data": [
          {
           "lat": [
            49.208985
           ],
           "lon": [
            -139.922429
           ],
           "marker": {
            "size": 14
           },
           "mode": "markers",
           "name": "Start",
           "text": [
            "Start"
           ],
           "type": "scattermapbox"
          },
          {
           "lat": [
            49.567979,
            49.979489,
            50.331437
           ],
           "lon": [
            -140.80775,
            -141.708892,
            -142.851804
           ],
           "marker": {
            "size": 14
           },
           "mode": "markers",
           "name": "Intermediate",
           "text": [
            "Intermediate",
            "Intermediate",
            "Intermediate"
           ],
           "type": "scattermapbox"
          },
          {
           "lat": [
            50.722548
           ],
           "lon": [
            -144.236486
           ],
           "marker": {
            "size": 14
           },
           "mode": "markers",
           "name": "Goal",
           "text": [
            "Goal",
            "Goal",
            "Goal"
           ],
           "type": "scattermapbox"
          },
          {
           "lat": [
            50.822548
           ],
           "lon": [
            -144.336486
           ],
           "marker": {
            "color": "red",
            "size": 14
           },
           "mode": "markers",
           "name": "Boat",
           "text": [
            "Boat"
           ],
           "type": "scattermapbox"
          }
         ],
         "name": "Boat 4"
        }
       ],
       "layout": {
        "mapbox": {
         "center": {
          "lat": 49.979489,
          "lon": -141.708892
         },
         "style": "open-street-map",
         "zoom": 6
        },
        "margin": {
         "b": 0,
         "l": 0,
         "r": 0,
         "t": 0
        },
        "template": {
         "data": {
          "bar": [
           {
            "error_x": {
             "color": "#2a3f5f"
            },
            "error_y": {
             "color": "#2a3f5f"
            },
            "marker": {
             "line": {
              "color": "#E5ECF6",
              "width": 0.5
             },
             "pattern": {
              "fillmode": "overlay",
              "size": 10,
              "solidity": 0.2
             }
            },
            "type": "bar"
           }
          ],
          "barpolar": [
           {
            "marker": {
             "line": {
              "color": "#E5ECF6",
              "width": 0.5
             },
             "pattern": {
              "fillmode": "overlay",
              "size": 10,
              "solidity": 0.2
             }
            },
            "type": "barpolar"
           }
          ],
          "carpet": [
           {
            "aaxis": {
             "endlinecolor": "#2a3f5f",
             "gridcolor": "white",
             "linecolor": "white",
             "minorgridcolor": "white",
             "startlinecolor": "#2a3f5f"
            },
            "baxis": {
             "endlinecolor": "#2a3f5f",
             "gridcolor": "white",
             "linecolor": "white",
             "minorgridcolor": "white",
             "startlinecolor": "#2a3f5f"
            },
            "type": "carpet"
           }
          ],
          "choropleth": [
           {
            "colorbar": {
             "outlinewidth": 0,
             "ticks": ""
            },
            "type": "choropleth"
           }
          ],
          "contour": [
           {
            "colorbar": {
             "outlinewidth": 0,
             "ticks": ""
            },
            "colorscale": [
             [
              0,
              "#0d0887"
             ],
             [
              0.1111111111111111,
              "#46039f"
             ],
             [
              0.2222222222222222,
              "#7201a8"
             ],
             [
              0.3333333333333333,
              "#9c179e"
             ],
             [
              0.4444444444444444,
              "#bd3786"
             ],
             [
              0.5555555555555556,
              "#d8576b"
             ],
             [
              0.6666666666666666,
              "#ed7953"
             ],
             [
              0.7777777777777778,
              "#fb9f3a"
             ],
             [
              0.8888888888888888,
              "#fdca26"
             ],
             [
              1,
              "#f0f921"
             ]
            ],
            "type": "contour"
           }
          ],
          "contourcarpet": [
           {
            "colorbar": {
             "outlinewidth": 0,
             "ticks": ""
            },
            "type": "contourcarpet"
           }
          ],
          "heatmap": [
           {
            "colorbar": {
             "outlinewidth": 0,
             "ticks": ""
            },
            "colorscale": [
             [
              0,
              "#0d0887"
             ],
             [
              0.1111111111111111,
              "#46039f"
             ],
             [
              0.2222222222222222,
              "#7201a8"
             ],
             [
              0.3333333333333333,
              "#9c179e"
             ],
             [
              0.4444444444444444,
              "#bd3786"
             ],
             [
              0.5555555555555556,
              "#d8576b"
             ],
             [
              0.6666666666666666,
              "#ed7953"
             ],
             [
              0.7777777777777778,
              "#fb9f3a"
             ],
             [
              0.8888888888888888,
              "#fdca26"
             ],
             [
              1,
              "#f0f921"
             ]
            ],
            "type": "heatmap"
           }
          ],
          "heatmapgl": [
           {
            "colorbar": {
             "outlinewidth": 0,
             "ticks": ""
            },
            "colorscale": [
             [
              0,
              "#0d0887"
             ],
             [
              0.1111111111111111,
              "#46039f"
             ],
             [
              0.2222222222222222,
              "#7201a8"
             ],
             [
              0.3333333333333333,
              "#9c179e"
             ],
             [
              0.4444444444444444,
              "#bd3786"
             ],
             [
              0.5555555555555556,
              "#d8576b"
             ],
             [
              0.6666666666666666,
              "#ed7953"
             ],
             [
              0.7777777777777778,
              "#fb9f3a"
             ],
             [
              0.8888888888888888,
              "#fdca26"
             ],
             [
              1,
              "#f0f921"
             ]
            ],
            "type": "heatmapgl"
           }
          ],
          "histogram": [
           {
            "marker": {
             "pattern": {
              "fillmode": "overlay",
              "size": 10,
              "solidity": 0.2
             }
            },
            "type": "histogram"
           }
          ],
          "histogram2d": [
           {
            "colorbar": {
             "outlinewidth": 0,
             "ticks": ""
            },
            "colorscale": [
             [
              0,
              "#0d0887"
             ],
             [
              0.1111111111111111,
              "#46039f"
             ],
             [
              0.2222222222222222,
              "#7201a8"
             ],
             [
              0.3333333333333333,
              "#9c179e"
             ],
             [
              0.4444444444444444,
              "#bd3786"
             ],
             [
              0.5555555555555556,
              "#d8576b"
             ],
             [
              0.6666666666666666,
              "#ed7953"
             ],
             [
              0.7777777777777778,
              "#fb9f3a"
             ],
             [
              0.8888888888888888,
              "#fdca26"
             ],
             [
              1,
              "#f0f921"
             ]
            ],
            "type": "histogram2d"
           }
          ],
          "histogram2dcontour": [
           {
            "colorbar": {
             "outlinewidth": 0,
             "ticks": ""
            },
            "colorscale": [
             [
              0,
              "#0d0887"
             ],
             [
              0.1111111111111111,
              "#46039f"
             ],
             [
              0.2222222222222222,
              "#7201a8"
             ],
             [
              0.3333333333333333,
              "#9c179e"
             ],
             [
              0.4444444444444444,
              "#bd3786"
             ],
             [
              0.5555555555555556,
              "#d8576b"
             ],
             [
              0.6666666666666666,
              "#ed7953"
             ],
             [
              0.7777777777777778,
              "#fb9f3a"
             ],
             [
              0.8888888888888888,
              "#fdca26"
             ],
             [
              1,
              "#f0f921"
             ]
            ],
            "type": "histogram2dcontour"
           }
          ],
          "mesh3d": [
           {
            "colorbar": {
             "outlinewidth": 0,
             "ticks": ""
            },
            "type": "mesh3d"
           }
          ],
          "parcoords": [
           {
            "line": {
             "colorbar": {
              "outlinewidth": 0,
              "ticks": ""
             }
            },
            "type": "parcoords"
           }
          ],
          "pie": [
           {
            "automargin": true,
            "type": "pie"
           }
          ],
          "scatter": [
           {
            "fillpattern": {
             "fillmode": "overlay",
             "size": 10,
             "solidity": 0.2
            },
            "type": "scatter"
           }
          ],
          "scatter3d": [
           {
            "line": {
             "colorbar": {
              "outlinewidth": 0,
              "ticks": ""
             }
            },
            "marker": {
             "colorbar": {
              "outlinewidth": 0,
              "ticks": ""
             }
            },
            "type": "scatter3d"
           }
          ],
          "scattercarpet": [
           {
            "marker": {
             "colorbar": {
              "outlinewidth": 0,
              "ticks": ""
             }
            },
            "type": "scattercarpet"
           }
          ],
          "scattergeo": [
           {
            "marker": {
             "colorbar": {
              "outlinewidth": 0,
              "ticks": ""
             }
            },
            "type": "scattergeo"
           }
          ],
          "scattergl": [
           {
            "marker": {
             "colorbar": {
              "outlinewidth": 0,
              "ticks": ""
             }
            },
            "type": "scattergl"
           }
          ],
          "scattermapbox": [
           {
            "marker": {
             "colorbar": {
              "outlinewidth": 0,
              "ticks": ""
             }
            },
            "type": "scattermapbox"
           }
          ],
          "scatterpolar": [
           {
            "marker": {
             "colorbar": {
              "outlinewidth": 0,
              "ticks": ""
             }
            },
            "type": "scatterpolar"
           }
          ],
          "scatterpolargl": [
           {
            "marker": {
             "colorbar": {
              "outlinewidth": 0,
              "ticks": ""
             }
            },
            "type": "scatterpolargl"
           }
          ],
          "scatterternary": [
           {
            "marker": {
             "colorbar": {
              "outlinewidth": 0,
              "ticks": ""
             }
            },
            "type": "scatterternary"
           }
          ],
          "surface": [
           {
            "colorbar": {
             "outlinewidth": 0,
             "ticks": ""
            },
            "colorscale": [
             [
              0,
              "#0d0887"
             ],
             [
              0.1111111111111111,
              "#46039f"
             ],
             [
              0.2222222222222222,
              "#7201a8"
             ],
             [
              0.3333333333333333,
              "#9c179e"
             ],
             [
              0.4444444444444444,
              "#bd3786"
             ],
             [
              0.5555555555555556,
              "#d8576b"
             ],
             [
              0.6666666666666666,
              "#ed7953"
             ],
             [
              0.7777777777777778,
              "#fb9f3a"
             ],
             [
              0.8888888888888888,
              "#fdca26"
             ],
             [
              1,
              "#f0f921"
             ]
            ],
            "type": "surface"
           }
          ],
          "table": [
           {
            "cells": {
             "fill": {
              "color": "#EBF0F8"
             },
             "line": {
              "color": "white"
             }
            },
            "header": {
             "fill": {
              "color": "#C8D4E3"
             },
             "line": {
              "color": "white"
             }
            },
            "type": "table"
           }
          ]
         },
         "layout": {
          "annotationdefaults": {
           "arrowcolor": "#2a3f5f",
           "arrowhead": 0,
           "arrowwidth": 1
          },
          "autotypenumbers": "strict",
          "coloraxis": {
           "colorbar": {
            "outlinewidth": 0,
            "ticks": ""
           }
          },
          "colorscale": {
           "diverging": [
            [
             0,
             "#8e0152"
            ],
            [
             0.1,
             "#c51b7d"
            ],
            [
             0.2,
             "#de77ae"
            ],
            [
             0.3,
             "#f1b6da"
            ],
            [
             0.4,
             "#fde0ef"
            ],
            [
             0.5,
             "#f7f7f7"
            ],
            [
             0.6,
             "#e6f5d0"
            ],
            [
             0.7,
             "#b8e186"
            ],
            [
             0.8,
             "#7fbc41"
            ],
            [
             0.9,
             "#4d9221"
            ],
            [
             1,
             "#276419"
            ]
           ],
           "sequential": [
            [
             0,
             "#0d0887"
            ],
            [
             0.1111111111111111,
             "#46039f"
            ],
            [
             0.2222222222222222,
             "#7201a8"
            ],
            [
             0.3333333333333333,
             "#9c179e"
            ],
            [
             0.4444444444444444,
             "#bd3786"
            ],
            [
             0.5555555555555556,
             "#d8576b"
            ],
            [
             0.6666666666666666,
             "#ed7953"
            ],
            [
             0.7777777777777778,
             "#fb9f3a"
            ],
            [
             0.8888888888888888,
             "#fdca26"
            ],
            [
             1,
             "#f0f921"
            ]
           ],
           "sequentialminus": [
            [
             0,
             "#0d0887"
            ],
            [
             0.1111111111111111,
             "#46039f"
            ],
            [
             0.2222222222222222,
             "#7201a8"
            ],
            [
             0.3333333333333333,
             "#9c179e"
            ],
            [
             0.4444444444444444,
             "#bd3786"
            ],
            [
             0.5555555555555556,
             "#d8576b"
            ],
            [
             0.6666666666666666,
             "#ed7953"
            ],
            [
             0.7777777777777778,
             "#fb9f3a"
            ],
            [
             0.8888888888888888,
             "#fdca26"
            ],
            [
             1,
             "#f0f921"
            ]
           ]
          },
          "colorway": [
           "#636efa",
           "#EF553B",
           "#00cc96",
           "#ab63fa",
           "#FFA15A",
           "#19d3f3",
           "#FF6692",
           "#B6E880",
           "#FF97FF",
           "#FECB52"
          ],
          "font": {
           "color": "#2a3f5f"
          },
          "geo": {
           "bgcolor": "white",
           "lakecolor": "white",
           "landcolor": "#E5ECF6",
           "showlakes": true,
           "showland": true,
           "subunitcolor": "white"
          },
          "hoverlabel": {
           "align": "left"
          },
          "hovermode": "closest",
          "mapbox": {
           "style": "light"
          },
          "paper_bgcolor": "white",
          "plot_bgcolor": "#E5ECF6",
          "polar": {
           "angularaxis": {
            "gridcolor": "white",
            "linecolor": "white",
            "ticks": ""
           },
           "bgcolor": "#E5ECF6",
           "radialaxis": {
            "gridcolor": "white",
            "linecolor": "white",
            "ticks": ""
           }
          },
          "scene": {
           "xaxis": {
            "backgroundcolor": "#E5ECF6",
            "gridcolor": "white",
            "gridwidth": 2,
            "linecolor": "white",
            "showbackground": true,
            "ticks": "",
            "zerolinecolor": "white"
           },
           "yaxis": {
            "backgroundcolor": "#E5ECF6",
            "gridcolor": "white",
            "gridwidth": 2,
            "linecolor": "white",
            "showbackground": true,
            "ticks": "",
            "zerolinecolor": "white"
           },
           "zaxis": {
            "backgroundcolor": "#E5ECF6",
            "gridcolor": "white",
            "gridwidth": 2,
            "linecolor": "white",
            "showbackground": true,
            "ticks": "",
            "zerolinecolor": "white"
           }
          },
          "shapedefaults": {
           "line": {
            "color": "#2a3f5f"
           }
          },
          "ternary": {
           "aaxis": {
            "gridcolor": "white",
            "linecolor": "white",
            "ticks": ""
           },
           "baxis": {
            "gridcolor": "white",
            "linecolor": "white",
            "ticks": ""
           },
           "bgcolor": "#E5ECF6",
           "caxis": {
            "gridcolor": "white",
            "linecolor": "white",
            "ticks": ""
           }
          },
          "title": {
           "x": 0.05
          },
          "xaxis": {
           "automargin": true,
           "gridcolor": "white",
           "linecolor": "white",
           "ticks": "",
           "title": {
            "standoff": 15
           },
           "zerolinecolor": "white",
           "zerolinewidth": 2
          },
          "yaxis": {
           "automargin": true,
           "gridcolor": "white",
           "linecolor": "white",
           "ticks": "",
           "title": {
            "standoff": 15
           },
           "zerolinecolor": "white",
           "zerolinewidth": 2
          }
         }
        },
        "updatemenus": [
         {
          "buttons": [
           {
            "args": [
             null,
             {
              "frame": {
               "duration": 1000,
               "redraw": true
              },
              "mode": "immediate"
             }
            ],
            "label": "Play",
            "method": "animate"
           },
           {
            "args": [
             [
              null
             ],
             {
              "frame": {
               "duration": 0,
               "redraw": true
              },
              "mode": "immediate"
             }
            ],
            "label": "Pause",
            "method": "animate"
           }
          ],
          "showactive": false,
          "type": "buttons"
         }
        ]
       }
      },
      "text/html": [
       "<div>                            <div id=\"9e46eb3c-abbd-4fc5-8962-ec475e4474a3\" class=\"plotly-graph-div\" style=\"height:525px; width:100%;\"></div>            <script type=\"text/javascript\">                require([\"plotly\"], function(Plotly) {                    window.PLOTLYENV=window.PLOTLYENV || {};                                    if (document.getElementById(\"9e46eb3c-abbd-4fc5-8962-ec475e4474a3\")) {                    Plotly.newPlot(                        \"9e46eb3c-abbd-4fc5-8962-ec475e4474a3\",                        [{\"lat\":[49.208985],\"lon\":[-139.922429],\"marker\":{\"size\":14},\"mode\":\"markers\",\"name\":\"Start\",\"text\":[\"Start\"],\"type\":\"scattermapbox\"},{\"lat\":[49.567979,49.979489,50.331437],\"lon\":[-140.80775,-141.708892,-142.851804],\"marker\":{\"size\":14},\"mode\":\"markers\",\"name\":\"Intermediate\",\"text\":[\"Intermediate\",\"Intermediate\",\"Intermediate\"],\"type\":\"scattermapbox\"},{\"lat\":[50.722548],\"lon\":[-144.236486],\"marker\":{\"size\":14},\"mode\":\"markers\",\"name\":\"Goal\",\"text\":[\"Goal\",\"Goal\",\"Goal\"],\"type\":\"scattermapbox\"},{\"lat\":[49.5],\"lon\":[-139.922429],\"marker\":{\"color\":\"red\",\"size\":14},\"mode\":\"markers\",\"name\":\"Boat\",\"text\":[\"Boat\"],\"type\":\"scattermapbox\"}],                        {\"mapbox\":{\"center\":{\"lat\":49.979489,\"lon\":-141.708892},\"style\":\"open-street-map\",\"zoom\":6},\"margin\":{\"b\":0,\"l\":0,\"r\":0,\"t\":0},\"updatemenus\":[{\"buttons\":[{\"args\":[null,{\"frame\":{\"duration\":1000,\"redraw\":true},\"mode\":\"immediate\"}],\"label\":\"Play\",\"method\":\"animate\"},{\"args\":[[null],{\"frame\":{\"duration\":0,\"redraw\":true},\"mode\":\"immediate\"}],\"label\":\"Pause\",\"method\":\"animate\"}],\"showactive\":false,\"type\":\"buttons\"}],\"template\":{\"data\":{\"histogram2dcontour\":[{\"type\":\"histogram2dcontour\",\"colorbar\":{\"outlinewidth\":0,\"ticks\":\"\"},\"colorscale\":[[0.0,\"#0d0887\"],[0.1111111111111111,\"#46039f\"],[0.2222222222222222,\"#7201a8\"],[0.3333333333333333,\"#9c179e\"],[0.4444444444444444,\"#bd3786\"],[0.5555555555555556,\"#d8576b\"],[0.6666666666666666,\"#ed7953\"],[0.7777777777777778,\"#fb9f3a\"],[0.8888888888888888,\"#fdca26\"],[1.0,\"#f0f921\"]]}],\"choropleth\":[{\"type\":\"choropleth\",\"colorbar\":{\"outlinewidth\":0,\"ticks\":\"\"}}],\"histogram2d\":[{\"type\":\"histogram2d\",\"colorbar\":{\"outlinewidth\":0,\"ticks\":\"\"},\"colorscale\":[[0.0,\"#0d0887\"],[0.1111111111111111,\"#46039f\"],[0.2222222222222222,\"#7201a8\"],[0.3333333333333333,\"#9c179e\"],[0.4444444444444444,\"#bd3786\"],[0.5555555555555556,\"#d8576b\"],[0.6666666666666666,\"#ed7953\"],[0.7777777777777778,\"#fb9f3a\"],[0.8888888888888888,\"#fdca26\"],[1.0,\"#f0f921\"]]}],\"heatmap\":[{\"type\":\"heatmap\",\"colorbar\":{\"outlinewidth\":0,\"ticks\":\"\"},\"colorscale\":[[0.0,\"#0d0887\"],[0.1111111111111111,\"#46039f\"],[0.2222222222222222,\"#7201a8\"],[0.3333333333333333,\"#9c179e\"],[0.4444444444444444,\"#bd3786\"],[0.5555555555555556,\"#d8576b\"],[0.6666666666666666,\"#ed7953\"],[0.7777777777777778,\"#fb9f3a\"],[0.8888888888888888,\"#fdca26\"],[1.0,\"#f0f921\"]]}],\"heatmapgl\":[{\"type\":\"heatmapgl\",\"colorbar\":{\"outlinewidth\":0,\"ticks\":\"\"},\"colorscale\":[[0.0,\"#0d0887\"],[0.1111111111111111,\"#46039f\"],[0.2222222222222222,\"#7201a8\"],[0.3333333333333333,\"#9c179e\"],[0.4444444444444444,\"#bd3786\"],[0.5555555555555556,\"#d8576b\"],[0.6666666666666666,\"#ed7953\"],[0.7777777777777778,\"#fb9f3a\"],[0.8888888888888888,\"#fdca26\"],[1.0,\"#f0f921\"]]}],\"contourcarpet\":[{\"type\":\"contourcarpet\",\"colorbar\":{\"outlinewidth\":0,\"ticks\":\"\"}}],\"contour\":[{\"type\":\"contour\",\"colorbar\":{\"outlinewidth\":0,\"ticks\":\"\"},\"colorscale\":[[0.0,\"#0d0887\"],[0.1111111111111111,\"#46039f\"],[0.2222222222222222,\"#7201a8\"],[0.3333333333333333,\"#9c179e\"],[0.4444444444444444,\"#bd3786\"],[0.5555555555555556,\"#d8576b\"],[0.6666666666666666,\"#ed7953\"],[0.7777777777777778,\"#fb9f3a\"],[0.8888888888888888,\"#fdca26\"],[1.0,\"#f0f921\"]]}],\"surface\":[{\"type\":\"surface\",\"colorbar\":{\"outlinewidth\":0,\"ticks\":\"\"},\"colorscale\":[[0.0,\"#0d0887\"],[0.1111111111111111,\"#46039f\"],[0.2222222222222222,\"#7201a8\"],[0.3333333333333333,\"#9c179e\"],[0.4444444444444444,\"#bd3786\"],[0.5555555555555556,\"#d8576b\"],[0.6666666666666666,\"#ed7953\"],[0.7777777777777778,\"#fb9f3a\"],[0.8888888888888888,\"#fdca26\"],[1.0,\"#f0f921\"]]}],\"mesh3d\":[{\"type\":\"mesh3d\",\"colorbar\":{\"outlinewidth\":0,\"ticks\":\"\"}}],\"scatter\":[{\"fillpattern\":{\"fillmode\":\"overlay\",\"size\":10,\"solidity\":0.2},\"type\":\"scatter\"}],\"parcoords\":[{\"type\":\"parcoords\",\"line\":{\"colorbar\":{\"outlinewidth\":0,\"ticks\":\"\"}}}],\"scatterpolargl\":[{\"type\":\"scatterpolargl\",\"marker\":{\"colorbar\":{\"outlinewidth\":0,\"ticks\":\"\"}}}],\"bar\":[{\"error_x\":{\"color\":\"#2a3f5f\"},\"error_y\":{\"color\":\"#2a3f5f\"},\"marker\":{\"line\":{\"color\":\"#E5ECF6\",\"width\":0.5},\"pattern\":{\"fillmode\":\"overlay\",\"size\":10,\"solidity\":0.2}},\"type\":\"bar\"}],\"scattergeo\":[{\"type\":\"scattergeo\",\"marker\":{\"colorbar\":{\"outlinewidth\":0,\"ticks\":\"\"}}}],\"scatterpolar\":[{\"type\":\"scatterpolar\",\"marker\":{\"colorbar\":{\"outlinewidth\":0,\"ticks\":\"\"}}}],\"histogram\":[{\"marker\":{\"pattern\":{\"fillmode\":\"overlay\",\"size\":10,\"solidity\":0.2}},\"type\":\"histogram\"}],\"scattergl\":[{\"type\":\"scattergl\",\"marker\":{\"colorbar\":{\"outlinewidth\":0,\"ticks\":\"\"}}}],\"scatter3d\":[{\"type\":\"scatter3d\",\"line\":{\"colorbar\":{\"outlinewidth\":0,\"ticks\":\"\"}},\"marker\":{\"colorbar\":{\"outlinewidth\":0,\"ticks\":\"\"}}}],\"scattermapbox\":[{\"type\":\"scattermapbox\",\"marker\":{\"colorbar\":{\"outlinewidth\":0,\"ticks\":\"\"}}}],\"scatterternary\":[{\"type\":\"scatterternary\",\"marker\":{\"colorbar\":{\"outlinewidth\":0,\"ticks\":\"\"}}}],\"scattercarpet\":[{\"type\":\"scattercarpet\",\"marker\":{\"colorbar\":{\"outlinewidth\":0,\"ticks\":\"\"}}}],\"carpet\":[{\"aaxis\":{\"endlinecolor\":\"#2a3f5f\",\"gridcolor\":\"white\",\"linecolor\":\"white\",\"minorgridcolor\":\"white\",\"startlinecolor\":\"#2a3f5f\"},\"baxis\":{\"endlinecolor\":\"#2a3f5f\",\"gridcolor\":\"white\",\"linecolor\":\"white\",\"minorgridcolor\":\"white\",\"startlinecolor\":\"#2a3f5f\"},\"type\":\"carpet\"}],\"table\":[{\"cells\":{\"fill\":{\"color\":\"#EBF0F8\"},\"line\":{\"color\":\"white\"}},\"header\":{\"fill\":{\"color\":\"#C8D4E3\"},\"line\":{\"color\":\"white\"}},\"type\":\"table\"}],\"barpolar\":[{\"marker\":{\"line\":{\"color\":\"#E5ECF6\",\"width\":0.5},\"pattern\":{\"fillmode\":\"overlay\",\"size\":10,\"solidity\":0.2}},\"type\":\"barpolar\"}],\"pie\":[{\"automargin\":true,\"type\":\"pie\"}]},\"layout\":{\"autotypenumbers\":\"strict\",\"colorway\":[\"#636efa\",\"#EF553B\",\"#00cc96\",\"#ab63fa\",\"#FFA15A\",\"#19d3f3\",\"#FF6692\",\"#B6E880\",\"#FF97FF\",\"#FECB52\"],\"font\":{\"color\":\"#2a3f5f\"},\"hovermode\":\"closest\",\"hoverlabel\":{\"align\":\"left\"},\"paper_bgcolor\":\"white\",\"plot_bgcolor\":\"#E5ECF6\",\"polar\":{\"bgcolor\":\"#E5ECF6\",\"angularaxis\":{\"gridcolor\":\"white\",\"linecolor\":\"white\",\"ticks\":\"\"},\"radialaxis\":{\"gridcolor\":\"white\",\"linecolor\":\"white\",\"ticks\":\"\"}},\"ternary\":{\"bgcolor\":\"#E5ECF6\",\"aaxis\":{\"gridcolor\":\"white\",\"linecolor\":\"white\",\"ticks\":\"\"},\"baxis\":{\"gridcolor\":\"white\",\"linecolor\":\"white\",\"ticks\":\"\"},\"caxis\":{\"gridcolor\":\"white\",\"linecolor\":\"white\",\"ticks\":\"\"}},\"coloraxis\":{\"colorbar\":{\"outlinewidth\":0,\"ticks\":\"\"}},\"colorscale\":{\"sequential\":[[0.0,\"#0d0887\"],[0.1111111111111111,\"#46039f\"],[0.2222222222222222,\"#7201a8\"],[0.3333333333333333,\"#9c179e\"],[0.4444444444444444,\"#bd3786\"],[0.5555555555555556,\"#d8576b\"],[0.6666666666666666,\"#ed7953\"],[0.7777777777777778,\"#fb9f3a\"],[0.8888888888888888,\"#fdca26\"],[1.0,\"#f0f921\"]],\"sequentialminus\":[[0.0,\"#0d0887\"],[0.1111111111111111,\"#46039f\"],[0.2222222222222222,\"#7201a8\"],[0.3333333333333333,\"#9c179e\"],[0.4444444444444444,\"#bd3786\"],[0.5555555555555556,\"#d8576b\"],[0.6666666666666666,\"#ed7953\"],[0.7777777777777778,\"#fb9f3a\"],[0.8888888888888888,\"#fdca26\"],[1.0,\"#f0f921\"]],\"diverging\":[[0,\"#8e0152\"],[0.1,\"#c51b7d\"],[0.2,\"#de77ae\"],[0.3,\"#f1b6da\"],[0.4,\"#fde0ef\"],[0.5,\"#f7f7f7\"],[0.6,\"#e6f5d0\"],[0.7,\"#b8e186\"],[0.8,\"#7fbc41\"],[0.9,\"#4d9221\"],[1,\"#276419\"]]},\"xaxis\":{\"gridcolor\":\"white\",\"linecolor\":\"white\",\"ticks\":\"\",\"title\":{\"standoff\":15},\"zerolinecolor\":\"white\",\"automargin\":true,\"zerolinewidth\":2},\"yaxis\":{\"gridcolor\":\"white\",\"linecolor\":\"white\",\"ticks\":\"\",\"title\":{\"standoff\":15},\"zerolinecolor\":\"white\",\"automargin\":true,\"zerolinewidth\":2},\"scene\":{\"xaxis\":{\"backgroundcolor\":\"#E5ECF6\",\"gridcolor\":\"white\",\"linecolor\":\"white\",\"showbackground\":true,\"ticks\":\"\",\"zerolinecolor\":\"white\",\"gridwidth\":2},\"yaxis\":{\"backgroundcolor\":\"#E5ECF6\",\"gridcolor\":\"white\",\"linecolor\":\"white\",\"showbackground\":true,\"ticks\":\"\",\"zerolinecolor\":\"white\",\"gridwidth\":2},\"zaxis\":{\"backgroundcolor\":\"#E5ECF6\",\"gridcolor\":\"white\",\"linecolor\":\"white\",\"showbackground\":true,\"ticks\":\"\",\"zerolinecolor\":\"white\",\"gridwidth\":2}},\"shapedefaults\":{\"line\":{\"color\":\"#2a3f5f\"}},\"annotationdefaults\":{\"arrowcolor\":\"#2a3f5f\",\"arrowhead\":0,\"arrowwidth\":1},\"geo\":{\"bgcolor\":\"white\",\"landcolor\":\"#E5ECF6\",\"subunitcolor\":\"white\",\"showland\":true,\"showlakes\":true,\"lakecolor\":\"white\"},\"title\":{\"x\":0.05},\"mapbox\":{\"style\":\"light\"}}}},                        {\"responsive\": true}                    ).then(function(){\n",
       "                            Plotly.addFrames('9e46eb3c-abbd-4fc5-8962-ec475e4474a3', [{\"data\":[{\"lat\":[49.208985],\"lon\":[-139.922429],\"marker\":{\"size\":14},\"mode\":\"markers\",\"name\":\"Start\",\"text\":[\"Start\"],\"type\":\"scattermapbox\"},{\"lat\":[49.567979,49.979489,50.331437],\"lon\":[-140.80775,-141.708892,-142.851804],\"marker\":{\"size\":14},\"mode\":\"markers\",\"name\":\"Intermediate\",\"text\":[\"Intermediate\",\"Intermediate\",\"Intermediate\"],\"type\":\"scattermapbox\"},{\"lat\":[50.722548],\"lon\":[-144.236486],\"marker\":{\"size\":14},\"mode\":\"markers\",\"name\":\"Goal\",\"text\":[\"Goal\",\"Goal\",\"Goal\"],\"type\":\"scattermapbox\"},{\"lat\":[49.5],\"lon\":[-139.922429],\"marker\":{\"color\":\"red\",\"size\":14},\"mode\":\"markers\",\"name\":\"Boat\",\"text\":[\"Boat\"],\"type\":\"scattermapbox\"}],\"name\":\"Boat 0\"},{\"data\":[{\"lat\":[49.208985],\"lon\":[-139.922429],\"marker\":{\"size\":14},\"mode\":\"markers\",\"name\":\"Start\",\"text\":[\"Start\"],\"type\":\"scattermapbox\"},{\"lat\":[49.567979,49.979489,50.331437],\"lon\":[-140.80775,-141.708892,-142.851804],\"marker\":{\"size\":14},\"mode\":\"markers\",\"name\":\"Intermediate\",\"text\":[\"Intermediate\",\"Intermediate\",\"Intermediate\"],\"type\":\"scattermapbox\"},{\"lat\":[50.722548],\"lon\":[-144.236486],\"marker\":{\"size\":14},\"mode\":\"markers\",\"name\":\"Goal\",\"text\":[\"Goal\",\"Goal\",\"Goal\"],\"type\":\"scattermapbox\"},{\"lat\":[49.667979],\"lon\":[-140.80775],\"marker\":{\"color\":\"red\",\"size\":14},\"mode\":\"markers\",\"name\":\"Boat\",\"text\":[\"Boat\"],\"type\":\"scattermapbox\"}],\"name\":\"Boat 1\"},{\"data\":[{\"lat\":[49.208985],\"lon\":[-139.922429],\"marker\":{\"size\":14},\"mode\":\"markers\",\"name\":\"Start\",\"text\":[\"Start\"],\"type\":\"scattermapbox\"},{\"lat\":[49.567979,49.979489,50.331437],\"lon\":[-140.80775,-141.708892,-142.851804],\"marker\":{\"size\":14},\"mode\":\"markers\",\"name\":\"Intermediate\",\"text\":[\"Intermediate\",\"Intermediate\",\"Intermediate\"],\"type\":\"scattermapbox\"},{\"lat\":[50.722548],\"lon\":[-144.236486],\"marker\":{\"size\":14},\"mode\":\"markers\",\"name\":\"Goal\",\"text\":[\"Goal\",\"Goal\",\"Goal\"],\"type\":\"scattermapbox\"},{\"lat\":[49.979489],\"lon\":[-141.808892],\"marker\":{\"color\":\"red\",\"size\":14},\"mode\":\"markers\",\"name\":\"Boat\",\"text\":[\"Boat\"],\"type\":\"scattermapbox\"}],\"name\":\"Boat 2\"},{\"data\":[{\"lat\":[49.208985],\"lon\":[-139.922429],\"marker\":{\"size\":14},\"mode\":\"markers\",\"name\":\"Start\",\"text\":[\"Start\"],\"type\":\"scattermapbox\"},{\"lat\":[49.567979,49.979489,50.331437],\"lon\":[-140.80775,-141.708892,-142.851804],\"marker\":{\"size\":14},\"mode\":\"markers\",\"name\":\"Intermediate\",\"text\":[\"Intermediate\",\"Intermediate\",\"Intermediate\"],\"type\":\"scattermapbox\"},{\"lat\":[50.722548],\"lon\":[-144.236486],\"marker\":{\"size\":14},\"mode\":\"markers\",\"name\":\"Goal\",\"text\":[\"Goal\",\"Goal\",\"Goal\"],\"type\":\"scattermapbox\"},{\"lat\":[50.331437],\"lon\":[-142.951804],\"marker\":{\"color\":\"red\",\"size\":14},\"mode\":\"markers\",\"name\":\"Boat\",\"text\":[\"Boat\"],\"type\":\"scattermapbox\"}],\"name\":\"Boat 3\"},{\"data\":[{\"lat\":[49.208985],\"lon\":[-139.922429],\"marker\":{\"size\":14},\"mode\":\"markers\",\"name\":\"Start\",\"text\":[\"Start\"],\"type\":\"scattermapbox\"},{\"lat\":[49.567979,49.979489,50.331437],\"lon\":[-140.80775,-141.708892,-142.851804],\"marker\":{\"size\":14},\"mode\":\"markers\",\"name\":\"Intermediate\",\"text\":[\"Intermediate\",\"Intermediate\",\"Intermediate\"],\"type\":\"scattermapbox\"},{\"lat\":[50.722548],\"lon\":[-144.236486],\"marker\":{\"size\":14},\"mode\":\"markers\",\"name\":\"Goal\",\"text\":[\"Goal\",\"Goal\",\"Goal\"],\"type\":\"scattermapbox\"},{\"lat\":[50.822548],\"lon\":[-144.336486],\"marker\":{\"color\":\"red\",\"size\":14},\"mode\":\"markers\",\"name\":\"Boat\",\"text\":[\"Boat\"],\"type\":\"scattermapbox\"}],\"name\":\"Boat 4\"}]);\n",
       "                        }).then(function(){\n",
       "                            \n",
       "var gd = document.getElementById('9e46eb3c-abbd-4fc5-8962-ec475e4474a3');\n",
       "var x = new MutationObserver(function (mutations, observer) {{\n",
       "        var display = window.getComputedStyle(gd).display;\n",
       "        if (!display || display === 'none') {{\n",
       "            console.log([gd, 'removed!']);\n",
       "            Plotly.purge(gd);\n",
       "            observer.disconnect();\n",
       "        }}\n",
       "}});\n",
       "\n",
       "// Listen for the removal of the full notebook cells\n",
       "var notebookContainer = gd.closest('#notebook-container');\n",
       "if (notebookContainer) {{\n",
       "    x.observe(notebookContainer, {childList: true});\n",
       "}}\n",
       "\n",
       "// Listen for the clearing of the current output cell\n",
       "var outputEl = gd.closest('.output');\n",
       "if (outputEl) {{\n",
       "    x.observe(outputEl, {childList: true});\n",
       "}}\n",
       "\n",
       "                        })                };                });            </script>        </div>"
      ]
     },
     "metadata": {},
     "output_type": "display_data"
    }
   ],
   "source": [
    "# Initial plot\n",
    "center_index = len(local_waypoints_lat_lon.waypoints) // 2\n",
    "initial_boat_state = go.Scattermapbox(\n",
    "    lat=[boat_history_lat_lon[0][\"position\"].latitude],\n",
    "    lon=[boat_history_lat_lon[0][\"position\"].longitude],\n",
    "    mode=\"markers\",\n",
    "    marker=go.scattermapbox.Marker(size=14, color=\"red\"),\n",
    "    text=[\"Boat\"],\n",
    "    name=\"Boat\",\n",
    ")\n",
    "initial_state = [\n",
    "    go.Scattermapbox(\n",
    "        lat=[waypoints_lat[0]],\n",
    "        lon=[waypoints_lon[0]],\n",
    "        mode=\"markers\",\n",
    "        marker=go.scattermapbox.Marker(size=14),\n",
    "        text=[\"Start\"],\n",
    "        name=\"Start\",\n",
    "    ),\n",
    "    go.Scattermapbox(\n",
    "        lat=waypoints_lat[1 : len(local_waypoints_lat_lon.waypoints) - 1],\n",
    "        lon=waypoints_lon[1 : len(local_waypoints_lat_lon.waypoints) - 1],\n",
    "        mode=\"markers\",\n",
    "        marker=go.scattermapbox.Marker(size=14),\n",
    "        text=[\"Intermediate\"] * (len(local_waypoints_lat_lon.waypoints) - 2),\n",
    "        name=\"Intermediate\",\n",
    "    ),\n",
    "    go.Scattermapbox(\n",
    "        lat=[waypoints_lat[-1]],\n",
    "        lon=[waypoints_lon[-1]],\n",
    "        mode=\"markers\",\n",
    "        marker=go.scattermapbox.Marker(size=14),\n",
    "        text=[\"Goal\"] * (len(local_waypoints_lat_lon.waypoints) - 2),\n",
    "        name=\"Goal\",\n",
    "    ),\n",
    "]\n",
    "new_frames = [\n",
    "    go.Frame(\n",
    "        data=initial_state\n",
    "        + [\n",
    "            go.Scattermapbox(\n",
    "                lat=[boat_history_lat_lon[i][\"position\"].latitude],\n",
    "                lon=[boat_history_lat_lon[i][\"position\"].longitude],\n",
    "                mode=\"markers\",\n",
    "                marker=go.scattermapbox.Marker(size=14, color=\"red\"),\n",
    "                text=[\"Boat\"],\n",
    "                name=\"Boat\",\n",
    "            )\n",
    "        ],\n",
    "        name=f\"Boat {i}\",\n",
    "    )\n",
    "    for i in range(0, len(boat_history_lat_lon))\n",
    "]\n",
    "fig = go.Figure(\n",
    "    data=initial_state + [initial_boat_state],\n",
    "    layout=go.Layout(\n",
    "        mapbox_style=\"open-street-map\",\n",
    "        mapbox_zoom=6,\n",
    "        mapbox_center={\"lat\": waypoints_lat[center_index], \"lon\": waypoints_lon[center_index]},\n",
    "        margin={\"r\": 0, \"t\": 0, \"l\": 0, \"b\": 0},\n",
    "        updatemenus=[\n",
    "            dict(\n",
    "                type=\"buttons\",\n",
    "                showactive=False,\n",
    "                buttons=[\n",
    "                    dict(\n",
    "                        label=\"Play\",\n",
    "                        method=\"animate\",\n",
    "                        args=[\n",
    "                            None,\n",
    "                            {\"frame\": {\"duration\": 1000, \"redraw\": True}, \"mode\": \"immediate\"},\n",
    "                        ],\n",
    "                    ),\n",
    "                    dict(\n",
    "                        label=\"Pause\",\n",
    "                        method=\"animate\",\n",
    "                        args=[\n",
    "                            [None],\n",
    "                            {\"frame\": {\"duration\": 0, \"redraw\": True}, \"mode\": \"immediate\"},\n",
    "                        ],\n",
    "                    ),\n",
    "                ],\n",
    "            )\n",
    "        ],\n",
    "    ),\n",
    "    frames=new_frames,\n",
    ")\n",
    "\n",
    "fig.show()"
   ]
  },
  {
   "cell_type": "markdown",
   "id": "8372d6ca",
   "metadata": {},
   "source": [
    "# Local Pathfinding Visualizer Using Plotly (XY)"
   ]
  },
  {
   "cell_type": "code",
   "execution_count": 24,
   "id": "96fac141",
   "metadata": {},
   "outputs": [
    {
     "data": {
      "application/vnd.plotly.v1+json": {
       "config": {
        "plotlyServerURL": "https://plot.ly"
       },
       "data": [
        {
         "marker": {
          "size": 14
         },
         "mode": "markers",
         "name": "Start",
         "text": [
          "Start"
         ],
         "type": "scatter",
         "x": [
          314.20673712159993
         ],
         "y": [
          -159.25610726968026
         ]
        },
        {
         "marker": {
          "size": 14
         },
         "mode": "markers",
         "name": "Intermediate",
         "text": [
          "Intermediate",
          "Intermediate",
          "Intermediate"
         ],
         "type": "scatter",
         "x": [
          247.9510832987924,
          181.26504487814523,
          98.58669516653883
         ],
         "y": [
          -122.71169916368716,
          -79.57022380629613,
          -42.5863862318154
         ]
        },
        {
         "marker": {
          "size": 14
         },
         "mode": "markers",
         "name": "Goal",
         "text": [
          "Goal",
          "Goal",
          "Goal"
         ],
         "type": "scatter",
         "x": [
          0
         ],
         "y": [
          0
         ]
        },
        {
         "marker": {
          "color": "red",
          "size": 14
         },
         "mode": "markers",
         "name": "Boat",
         "text": [
          "Boat"
         ],
         "type": "scatter",
         "x": [
          312.34517749447855
         ],
         "y": [
          -126.93168238699724
         ]
        }
       ],
       "frames": [
        {
         "data": [
          {
           "marker": {
            "size": 14
           },
           "mode": "markers",
           "name": "Start",
           "text": [
            "Start"
           ],
           "type": "scatter",
           "x": [
            314.20673712159993
           ],
           "y": [
            -159.25610726968026
           ]
          },
          {
           "marker": {
            "size": 14
           },
           "mode": "markers",
           "name": "Intermediate",
           "text": [
            "Intermediate",
            "Intermediate",
            "Intermediate"
           ],
           "type": "scatter",
           "x": [
            247.9510832987924,
            181.26504487814523,
            98.58669516653883
           ],
           "y": [
            -122.71169916368716,
            -79.57022380629613,
            -42.5863862318154
           ]
          },
          {
           "marker": {
            "size": 14
           },
           "mode": "markers",
           "name": "Goal",
           "text": [
            "Goal",
            "Goal",
            "Goal"
           ],
           "type": "scatter",
           "x": [
            0
           ],
           "y": [
            0
           ]
          },
          {
           "marker": {
            "color": "red",
            "size": 14
           },
           "mode": "markers",
           "name": "Boat",
           "text": [
            "Boat"
           ],
           "type": "scatter",
           "x": [
            312.34517749447855
           ],
           "y": [
            -126.93168238699724
           ]
          }
         ],
         "name": "Boat 0"
        },
        {
         "data": [
          {
           "marker": {
            "size": 14
           },
           "mode": "markers",
           "name": "Start",
           "text": [
            "Start"
           ],
           "type": "scatter",
           "x": [
            314.20673712159993
           ],
           "y": [
            -159.25610726968026
           ]
          },
          {
           "marker": {
            "size": 14
           },
           "mode": "markers",
           "name": "Intermediate",
           "text": [
            "Intermediate",
            "Intermediate",
            "Intermediate"
           ],
           "type": "scatter",
           "x": [
            247.9510832987924,
            181.26504487814523,
            98.58669516653883
           ],
           "y": [
            -122.71169916368716,
            -79.57022380629613,
            -42.5863862318154
           ]
          },
          {
           "marker": {
            "size": 14
           },
           "mode": "markers",
           "name": "Goal",
           "text": [
            "Goal",
            "Goal",
            "Goal"
           ],
           "type": "scatter",
           "x": [
            0
           ],
           "y": [
            0
           ]
          },
          {
           "marker": {
            "color": "red",
            "size": 14
           },
           "mode": "markers",
           "name": "Boat",
           "text": [
            "Boat"
           ],
           "type": "scatter",
           "x": [
            247.44133392136484
           ],
           "y": [
            -111.59854737106747
           ]
          }
         ],
         "name": "Boat 1"
        },
        {
         "data": [
          {
           "marker": {
            "size": 14
           },
           "mode": "markers",
           "name": "Start",
           "text": [
            "Start"
           ],
           "type": "scatter",
           "x": [
            314.20673712159993
           ],
           "y": [
            -159.25610726968026
           ]
          },
          {
           "marker": {
            "size": 14
           },
           "mode": "markers",
           "name": "Intermediate",
           "text": [
            "Intermediate",
            "Intermediate",
            "Intermediate"
           ],
           "type": "scatter",
           "x": [
            247.9510832987924,
            181.26504487814523,
            98.58669516653883
           ],
           "y": [
            -122.71169916368716,
            -79.57022380629613,
            -42.5863862318154
           ]
          },
          {
           "marker": {
            "size": 14
           },
           "mode": "markers",
           "name": "Goal",
           "text": [
            "Goal",
            "Goal",
            "Goal"
           ],
           "type": "scatter",
           "x": [
            0
           ],
           "y": [
            0
           ]
          },
          {
           "marker": {
            "color": "red",
            "size": 14
           },
           "mode": "markers",
           "name": "Boat",
           "text": [
            "Boat"
           ],
           "type": "scatter",
           "x": [
            174.09619607982765
           ],
           "y": [
            -79.80945933956816
           ]
          }
         ],
         "name": "Boat 2"
        },
        {
         "data": [
          {
           "marker": {
            "size": 14
           },
           "mode": "markers",
           "name": "Start",
           "text": [
            "Start"
           ],
           "type": "scatter",
           "x": [
            314.20673712159993
           ],
           "y": [
            -159.25610726968026
           ]
          },
          {
           "marker": {
            "size": 14
           },
           "mode": "markers",
           "name": "Intermediate",
           "text": [
            "Intermediate",
            "Intermediate",
            "Intermediate"
           ],
           "type": "scatter",
           "x": [
            247.9510832987924,
            181.26504487814523,
            98.58669516653883
           ],
           "y": [
            -122.71169916368716,
            -79.57022380629613,
            -42.5863862318154
           ]
          },
          {
           "marker": {
            "size": 14
           },
           "mode": "markers",
           "name": "Goal",
           "text": [
            "Goal",
            "Goal",
            "Goal"
           ],
           "type": "scatter",
           "x": [
            0
           ],
           "y": [
            0
           ]
          },
          {
           "marker": {
            "color": "red",
            "size": 14
           },
           "mode": "markers",
           "name": "Boat",
           "text": [
            "Boat"
           ],
           "type": "scatter",
           "x": [
            91.46762620443221
           ],
           "y": [
            -42.71453762055684
           ]
          }
         ],
         "name": "Boat 3"
        },
        {
         "data": [
          {
           "marker": {
            "size": 14
           },
           "mode": "markers",
           "name": "Start",
           "text": [
            "Start"
           ],
           "type": "scatter",
           "x": [
            314.20673712159993
           ],
           "y": [
            -159.25610726968026
           ]
          },
          {
           "marker": {
            "size": 14
           },
           "mode": "markers",
           "name": "Intermediate",
           "text": [
            "Intermediate",
            "Intermediate",
            "Intermediate"
           ],
           "type": "scatter",
           "x": [
            247.9510832987924,
            181.26504487814523,
            98.58669516653883
           ],
           "y": [
            -122.71169916368716,
            -79.57022380629613,
            -42.5863862318154
           ]
          },
          {
           "marker": {
            "size": 14
           },
           "mode": "markers",
           "name": "Goal",
           "text": [
            "Goal",
            "Goal",
            "Goal"
           ],
           "type": "scatter",
           "x": [
            0
           ],
           "y": [
            0
           ]
          },
          {
           "marker": {
            "color": "red",
            "size": 14
           },
           "mode": "markers",
           "name": "Boat",
           "text": [
            "Boat"
           ],
           "type": "scatter",
           "x": [
            -7.046511680402254
           ],
           "y": [
            11.129154129285872
           ]
          }
         ],
         "name": "Boat 4"
        }
       ],
       "layout": {
        "mapbox": {
         "center": {
          "lat": 181.26504487814523,
          "lon": -79.57022380629613
         },
         "style": "open-street-map",
         "zoom": 7
        },
        "margin": {
         "b": 0,
         "l": 0,
         "r": 0,
         "t": 0
        },
        "template": {
         "data": {
          "bar": [
           {
            "error_x": {
             "color": "#2a3f5f"
            },
            "error_y": {
             "color": "#2a3f5f"
            },
            "marker": {
             "line": {
              "color": "#E5ECF6",
              "width": 0.5
             },
             "pattern": {
              "fillmode": "overlay",
              "size": 10,
              "solidity": 0.2
             }
            },
            "type": "bar"
           }
          ],
          "barpolar": [
           {
            "marker": {
             "line": {
              "color": "#E5ECF6",
              "width": 0.5
             },
             "pattern": {
              "fillmode": "overlay",
              "size": 10,
              "solidity": 0.2
             }
            },
            "type": "barpolar"
           }
          ],
          "carpet": [
           {
            "aaxis": {
             "endlinecolor": "#2a3f5f",
             "gridcolor": "white",
             "linecolor": "white",
             "minorgridcolor": "white",
             "startlinecolor": "#2a3f5f"
            },
            "baxis": {
             "endlinecolor": "#2a3f5f",
             "gridcolor": "white",
             "linecolor": "white",
             "minorgridcolor": "white",
             "startlinecolor": "#2a3f5f"
            },
            "type": "carpet"
           }
          ],
          "choropleth": [
           {
            "colorbar": {
             "outlinewidth": 0,
             "ticks": ""
            },
            "type": "choropleth"
           }
          ],
          "contour": [
           {
            "colorbar": {
             "outlinewidth": 0,
             "ticks": ""
            },
            "colorscale": [
             [
              0,
              "#0d0887"
             ],
             [
              0.1111111111111111,
              "#46039f"
             ],
             [
              0.2222222222222222,
              "#7201a8"
             ],
             [
              0.3333333333333333,
              "#9c179e"
             ],
             [
              0.4444444444444444,
              "#bd3786"
             ],
             [
              0.5555555555555556,
              "#d8576b"
             ],
             [
              0.6666666666666666,
              "#ed7953"
             ],
             [
              0.7777777777777778,
              "#fb9f3a"
             ],
             [
              0.8888888888888888,
              "#fdca26"
             ],
             [
              1,
              "#f0f921"
             ]
            ],
            "type": "contour"
           }
          ],
          "contourcarpet": [
           {
            "colorbar": {
             "outlinewidth": 0,
             "ticks": ""
            },
            "type": "contourcarpet"
           }
          ],
          "heatmap": [
           {
            "colorbar": {
             "outlinewidth": 0,
             "ticks": ""
            },
            "colorscale": [
             [
              0,
              "#0d0887"
             ],
             [
              0.1111111111111111,
              "#46039f"
             ],
             [
              0.2222222222222222,
              "#7201a8"
             ],
             [
              0.3333333333333333,
              "#9c179e"
             ],
             [
              0.4444444444444444,
              "#bd3786"
             ],
             [
              0.5555555555555556,
              "#d8576b"
             ],
             [
              0.6666666666666666,
              "#ed7953"
             ],
             [
              0.7777777777777778,
              "#fb9f3a"
             ],
             [
              0.8888888888888888,
              "#fdca26"
             ],
             [
              1,
              "#f0f921"
             ]
            ],
            "type": "heatmap"
           }
          ],
          "heatmapgl": [
           {
            "colorbar": {
             "outlinewidth": 0,
             "ticks": ""
            },
            "colorscale": [
             [
              0,
              "#0d0887"
             ],
             [
              0.1111111111111111,
              "#46039f"
             ],
             [
              0.2222222222222222,
              "#7201a8"
             ],
             [
              0.3333333333333333,
              "#9c179e"
             ],
             [
              0.4444444444444444,
              "#bd3786"
             ],
             [
              0.5555555555555556,
              "#d8576b"
             ],
             [
              0.6666666666666666,
              "#ed7953"
             ],
             [
              0.7777777777777778,
              "#fb9f3a"
             ],
             [
              0.8888888888888888,
              "#fdca26"
             ],
             [
              1,
              "#f0f921"
             ]
            ],
            "type": "heatmapgl"
           }
          ],
          "histogram": [
           {
            "marker": {
             "pattern": {
              "fillmode": "overlay",
              "size": 10,
              "solidity": 0.2
             }
            },
            "type": "histogram"
           }
          ],
          "histogram2d": [
           {
            "colorbar": {
             "outlinewidth": 0,
             "ticks": ""
            },
            "colorscale": [
             [
              0,
              "#0d0887"
             ],
             [
              0.1111111111111111,
              "#46039f"
             ],
             [
              0.2222222222222222,
              "#7201a8"
             ],
             [
              0.3333333333333333,
              "#9c179e"
             ],
             [
              0.4444444444444444,
              "#bd3786"
             ],
             [
              0.5555555555555556,
              "#d8576b"
             ],
             [
              0.6666666666666666,
              "#ed7953"
             ],
             [
              0.7777777777777778,
              "#fb9f3a"
             ],
             [
              0.8888888888888888,
              "#fdca26"
             ],
             [
              1,
              "#f0f921"
             ]
            ],
            "type": "histogram2d"
           }
          ],
          "histogram2dcontour": [
           {
            "colorbar": {
             "outlinewidth": 0,
             "ticks": ""
            },
            "colorscale": [
             [
              0,
              "#0d0887"
             ],
             [
              0.1111111111111111,
              "#46039f"
             ],
             [
              0.2222222222222222,
              "#7201a8"
             ],
             [
              0.3333333333333333,
              "#9c179e"
             ],
             [
              0.4444444444444444,
              "#bd3786"
             ],
             [
              0.5555555555555556,
              "#d8576b"
             ],
             [
              0.6666666666666666,
              "#ed7953"
             ],
             [
              0.7777777777777778,
              "#fb9f3a"
             ],
             [
              0.8888888888888888,
              "#fdca26"
             ],
             [
              1,
              "#f0f921"
             ]
            ],
            "type": "histogram2dcontour"
           }
          ],
          "mesh3d": [
           {
            "colorbar": {
             "outlinewidth": 0,
             "ticks": ""
            },
            "type": "mesh3d"
           }
          ],
          "parcoords": [
           {
            "line": {
             "colorbar": {
              "outlinewidth": 0,
              "ticks": ""
             }
            },
            "type": "parcoords"
           }
          ],
          "pie": [
           {
            "automargin": true,
            "type": "pie"
           }
          ],
          "scatter": [
           {
            "fillpattern": {
             "fillmode": "overlay",
             "size": 10,
             "solidity": 0.2
            },
            "type": "scatter"
           }
          ],
          "scatter3d": [
           {
            "line": {
             "colorbar": {
              "outlinewidth": 0,
              "ticks": ""
             }
            },
            "marker": {
             "colorbar": {
              "outlinewidth": 0,
              "ticks": ""
             }
            },
            "type": "scatter3d"
           }
          ],
          "scattercarpet": [
           {
            "marker": {
             "colorbar": {
              "outlinewidth": 0,
              "ticks": ""
             }
            },
            "type": "scattercarpet"
           }
          ],
          "scattergeo": [
           {
            "marker": {
             "colorbar": {
              "outlinewidth": 0,
              "ticks": ""
             }
            },
            "type": "scattergeo"
           }
          ],
          "scattergl": [
           {
            "marker": {
             "colorbar": {
              "outlinewidth": 0,
              "ticks": ""
             }
            },
            "type": "scattergl"
           }
          ],
          "scattermapbox": [
           {
            "marker": {
             "colorbar": {
              "outlinewidth": 0,
              "ticks": ""
             }
            },
            "type": "scattermapbox"
           }
          ],
          "scatterpolar": [
           {
            "marker": {
             "colorbar": {
              "outlinewidth": 0,
              "ticks": ""
             }
            },
            "type": "scatterpolar"
           }
          ],
          "scatterpolargl": [
           {
            "marker": {
             "colorbar": {
              "outlinewidth": 0,
              "ticks": ""
             }
            },
            "type": "scatterpolargl"
           }
          ],
          "scatterternary": [
           {
            "marker": {
             "colorbar": {
              "outlinewidth": 0,
              "ticks": ""
             }
            },
            "type": "scatterternary"
           }
          ],
          "surface": [
           {
            "colorbar": {
             "outlinewidth": 0,
             "ticks": ""
            },
            "colorscale": [
             [
              0,
              "#0d0887"
             ],
             [
              0.1111111111111111,
              "#46039f"
             ],
             [
              0.2222222222222222,
              "#7201a8"
             ],
             [
              0.3333333333333333,
              "#9c179e"
             ],
             [
              0.4444444444444444,
              "#bd3786"
             ],
             [
              0.5555555555555556,
              "#d8576b"
             ],
             [
              0.6666666666666666,
              "#ed7953"
             ],
             [
              0.7777777777777778,
              "#fb9f3a"
             ],
             [
              0.8888888888888888,
              "#fdca26"
             ],
             [
              1,
              "#f0f921"
             ]
            ],
            "type": "surface"
           }
          ],
          "table": [
           {
            "cells": {
             "fill": {
              "color": "#EBF0F8"
             },
             "line": {
              "color": "white"
             }
            },
            "header": {
             "fill": {
              "color": "#C8D4E3"
             },
             "line": {
              "color": "white"
             }
            },
            "type": "table"
           }
          ]
         },
         "layout": {
          "annotationdefaults": {
           "arrowcolor": "#2a3f5f",
           "arrowhead": 0,
           "arrowwidth": 1
          },
          "autotypenumbers": "strict",
          "coloraxis": {
           "colorbar": {
            "outlinewidth": 0,
            "ticks": ""
           }
          },
          "colorscale": {
           "diverging": [
            [
             0,
             "#8e0152"
            ],
            [
             0.1,
             "#c51b7d"
            ],
            [
             0.2,
             "#de77ae"
            ],
            [
             0.3,
             "#f1b6da"
            ],
            [
             0.4,
             "#fde0ef"
            ],
            [
             0.5,
             "#f7f7f7"
            ],
            [
             0.6,
             "#e6f5d0"
            ],
            [
             0.7,
             "#b8e186"
            ],
            [
             0.8,
             "#7fbc41"
            ],
            [
             0.9,
             "#4d9221"
            ],
            [
             1,
             "#276419"
            ]
           ],
           "sequential": [
            [
             0,
             "#0d0887"
            ],
            [
             0.1111111111111111,
             "#46039f"
            ],
            [
             0.2222222222222222,
             "#7201a8"
            ],
            [
             0.3333333333333333,
             "#9c179e"
            ],
            [
             0.4444444444444444,
             "#bd3786"
            ],
            [
             0.5555555555555556,
             "#d8576b"
            ],
            [
             0.6666666666666666,
             "#ed7953"
            ],
            [
             0.7777777777777778,
             "#fb9f3a"
            ],
            [
             0.8888888888888888,
             "#fdca26"
            ],
            [
             1,
             "#f0f921"
            ]
           ],
           "sequentialminus": [
            [
             0,
             "#0d0887"
            ],
            [
             0.1111111111111111,
             "#46039f"
            ],
            [
             0.2222222222222222,
             "#7201a8"
            ],
            [
             0.3333333333333333,
             "#9c179e"
            ],
            [
             0.4444444444444444,
             "#bd3786"
            ],
            [
             0.5555555555555556,
             "#d8576b"
            ],
            [
             0.6666666666666666,
             "#ed7953"
            ],
            [
             0.7777777777777778,
             "#fb9f3a"
            ],
            [
             0.8888888888888888,
             "#fdca26"
            ],
            [
             1,
             "#f0f921"
            ]
           ]
          },
          "colorway": [
           "#636efa",
           "#EF553B",
           "#00cc96",
           "#ab63fa",
           "#FFA15A",
           "#19d3f3",
           "#FF6692",
           "#B6E880",
           "#FF97FF",
           "#FECB52"
          ],
          "font": {
           "color": "#2a3f5f"
          },
          "geo": {
           "bgcolor": "white",
           "lakecolor": "white",
           "landcolor": "#E5ECF6",
           "showlakes": true,
           "showland": true,
           "subunitcolor": "white"
          },
          "hoverlabel": {
           "align": "left"
          },
          "hovermode": "closest",
          "mapbox": {
           "style": "light"
          },
          "paper_bgcolor": "white",
          "plot_bgcolor": "#E5ECF6",
          "polar": {
           "angularaxis": {
            "gridcolor": "white",
            "linecolor": "white",
            "ticks": ""
           },
           "bgcolor": "#E5ECF6",
           "radialaxis": {
            "gridcolor": "white",
            "linecolor": "white",
            "ticks": ""
           }
          },
          "scene": {
           "xaxis": {
            "backgroundcolor": "#E5ECF6",
            "gridcolor": "white",
            "gridwidth": 2,
            "linecolor": "white",
            "showbackground": true,
            "ticks": "",
            "zerolinecolor": "white"
           },
           "yaxis": {
            "backgroundcolor": "#E5ECF6",
            "gridcolor": "white",
            "gridwidth": 2,
            "linecolor": "white",
            "showbackground": true,
            "ticks": "",
            "zerolinecolor": "white"
           },
           "zaxis": {
            "backgroundcolor": "#E5ECF6",
            "gridcolor": "white",
            "gridwidth": 2,
            "linecolor": "white",
            "showbackground": true,
            "ticks": "",
            "zerolinecolor": "white"
           }
          },
          "shapedefaults": {
           "line": {
            "color": "#2a3f5f"
           }
          },
          "ternary": {
           "aaxis": {
            "gridcolor": "white",
            "linecolor": "white",
            "ticks": ""
           },
           "baxis": {
            "gridcolor": "white",
            "linecolor": "white",
            "ticks": ""
           },
           "bgcolor": "#E5ECF6",
           "caxis": {
            "gridcolor": "white",
            "linecolor": "white",
            "ticks": ""
           }
          },
          "title": {
           "x": 0.05
          },
          "xaxis": {
           "automargin": true,
           "gridcolor": "white",
           "linecolor": "white",
           "ticks": "",
           "title": {
            "standoff": 15
           },
           "zerolinecolor": "white",
           "zerolinewidth": 2
          },
          "yaxis": {
           "automargin": true,
           "gridcolor": "white",
           "linecolor": "white",
           "ticks": "",
           "title": {
            "standoff": 15
           },
           "zerolinecolor": "white",
           "zerolinewidth": 2
          }
         }
        },
        "updatemenus": [
         {
          "buttons": [
           {
            "args": [
             null,
             {
              "frame": {
               "duration": 1000,
               "redraw": true
              },
              "mode": "immediate"
             }
            ],
            "label": "Play",
            "method": "animate"
           },
           {
            "args": [
             [
              null
             ],
             {
              "frame": {
               "duration": 0,
               "redraw": true
              },
              "mode": "immediate"
             }
            ],
            "label": "Pause",
            "method": "animate"
           }
          ],
          "showactive": false,
          "type": "buttons"
         }
        ],
        "xaxis": {
         "title": {
          "text": "X"
         }
        },
        "yaxis": {
         "title": {
          "text": "Y"
         }
        }
       }
      },
      "text/html": [
       "<div>                            <div id=\"f335a1bf-2447-409a-924b-ef117453fd88\" class=\"plotly-graph-div\" style=\"height:525px; width:100%;\"></div>            <script type=\"text/javascript\">                require([\"plotly\"], function(Plotly) {                    window.PLOTLYENV=window.PLOTLYENV || {};                                    if (document.getElementById(\"f335a1bf-2447-409a-924b-ef117453fd88\")) {                    Plotly.newPlot(                        \"f335a1bf-2447-409a-924b-ef117453fd88\",                        [{\"marker\":{\"size\":14},\"mode\":\"markers\",\"name\":\"Start\",\"text\":[\"Start\"],\"x\":[314.20673712159993],\"y\":[-159.25610726968026],\"type\":\"scatter\"},{\"marker\":{\"size\":14},\"mode\":\"markers\",\"name\":\"Intermediate\",\"text\":[\"Intermediate\",\"Intermediate\",\"Intermediate\"],\"x\":[247.9510832987924,181.26504487814523,98.58669516653883],\"y\":[-122.71169916368716,-79.57022380629613,-42.5863862318154],\"type\":\"scatter\"},{\"marker\":{\"size\":14},\"mode\":\"markers\",\"name\":\"Goal\",\"text\":[\"Goal\",\"Goal\",\"Goal\"],\"x\":[0.0],\"y\":[-0.0],\"type\":\"scatter\"},{\"marker\":{\"color\":\"red\",\"size\":14},\"mode\":\"markers\",\"name\":\"Boat\",\"text\":[\"Boat\"],\"x\":[312.34517749447855],\"y\":[-126.93168238699724],\"type\":\"scatter\"}],                        {\"mapbox\":{\"center\":{\"lat\":181.26504487814523,\"lon\":-79.57022380629613},\"style\":\"open-street-map\",\"zoom\":7},\"margin\":{\"b\":0,\"l\":0,\"r\":0,\"t\":0},\"updatemenus\":[{\"buttons\":[{\"args\":[null,{\"frame\":{\"duration\":1000,\"redraw\":true},\"mode\":\"immediate\"}],\"label\":\"Play\",\"method\":\"animate\"},{\"args\":[[null],{\"frame\":{\"duration\":0,\"redraw\":true},\"mode\":\"immediate\"}],\"label\":\"Pause\",\"method\":\"animate\"}],\"showactive\":false,\"type\":\"buttons\"}],\"xaxis\":{\"title\":{\"text\":\"X\"}},\"yaxis\":{\"title\":{\"text\":\"Y\"}},\"template\":{\"data\":{\"histogram2dcontour\":[{\"type\":\"histogram2dcontour\",\"colorbar\":{\"outlinewidth\":0,\"ticks\":\"\"},\"colorscale\":[[0.0,\"#0d0887\"],[0.1111111111111111,\"#46039f\"],[0.2222222222222222,\"#7201a8\"],[0.3333333333333333,\"#9c179e\"],[0.4444444444444444,\"#bd3786\"],[0.5555555555555556,\"#d8576b\"],[0.6666666666666666,\"#ed7953\"],[0.7777777777777778,\"#fb9f3a\"],[0.8888888888888888,\"#fdca26\"],[1.0,\"#f0f921\"]]}],\"choropleth\":[{\"type\":\"choropleth\",\"colorbar\":{\"outlinewidth\":0,\"ticks\":\"\"}}],\"histogram2d\":[{\"type\":\"histogram2d\",\"colorbar\":{\"outlinewidth\":0,\"ticks\":\"\"},\"colorscale\":[[0.0,\"#0d0887\"],[0.1111111111111111,\"#46039f\"],[0.2222222222222222,\"#7201a8\"],[0.3333333333333333,\"#9c179e\"],[0.4444444444444444,\"#bd3786\"],[0.5555555555555556,\"#d8576b\"],[0.6666666666666666,\"#ed7953\"],[0.7777777777777778,\"#fb9f3a\"],[0.8888888888888888,\"#fdca26\"],[1.0,\"#f0f921\"]]}],\"heatmap\":[{\"type\":\"heatmap\",\"colorbar\":{\"outlinewidth\":0,\"ticks\":\"\"},\"colorscale\":[[0.0,\"#0d0887\"],[0.1111111111111111,\"#46039f\"],[0.2222222222222222,\"#7201a8\"],[0.3333333333333333,\"#9c179e\"],[0.4444444444444444,\"#bd3786\"],[0.5555555555555556,\"#d8576b\"],[0.6666666666666666,\"#ed7953\"],[0.7777777777777778,\"#fb9f3a\"],[0.8888888888888888,\"#fdca26\"],[1.0,\"#f0f921\"]]}],\"heatmapgl\":[{\"type\":\"heatmapgl\",\"colorbar\":{\"outlinewidth\":0,\"ticks\":\"\"},\"colorscale\":[[0.0,\"#0d0887\"],[0.1111111111111111,\"#46039f\"],[0.2222222222222222,\"#7201a8\"],[0.3333333333333333,\"#9c179e\"],[0.4444444444444444,\"#bd3786\"],[0.5555555555555556,\"#d8576b\"],[0.6666666666666666,\"#ed7953\"],[0.7777777777777778,\"#fb9f3a\"],[0.8888888888888888,\"#fdca26\"],[1.0,\"#f0f921\"]]}],\"contourcarpet\":[{\"type\":\"contourcarpet\",\"colorbar\":{\"outlinewidth\":0,\"ticks\":\"\"}}],\"contour\":[{\"type\":\"contour\",\"colorbar\":{\"outlinewidth\":0,\"ticks\":\"\"},\"colorscale\":[[0.0,\"#0d0887\"],[0.1111111111111111,\"#46039f\"],[0.2222222222222222,\"#7201a8\"],[0.3333333333333333,\"#9c179e\"],[0.4444444444444444,\"#bd3786\"],[0.5555555555555556,\"#d8576b\"],[0.6666666666666666,\"#ed7953\"],[0.7777777777777778,\"#fb9f3a\"],[0.8888888888888888,\"#fdca26\"],[1.0,\"#f0f921\"]]}],\"surface\":[{\"type\":\"surface\",\"colorbar\":{\"outlinewidth\":0,\"ticks\":\"\"},\"colorscale\":[[0.0,\"#0d0887\"],[0.1111111111111111,\"#46039f\"],[0.2222222222222222,\"#7201a8\"],[0.3333333333333333,\"#9c179e\"],[0.4444444444444444,\"#bd3786\"],[0.5555555555555556,\"#d8576b\"],[0.6666666666666666,\"#ed7953\"],[0.7777777777777778,\"#fb9f3a\"],[0.8888888888888888,\"#fdca26\"],[1.0,\"#f0f921\"]]}],\"mesh3d\":[{\"type\":\"mesh3d\",\"colorbar\":{\"outlinewidth\":0,\"ticks\":\"\"}}],\"scatter\":[{\"fillpattern\":{\"fillmode\":\"overlay\",\"size\":10,\"solidity\":0.2},\"type\":\"scatter\"}],\"parcoords\":[{\"type\":\"parcoords\",\"line\":{\"colorbar\":{\"outlinewidth\":0,\"ticks\":\"\"}}}],\"scatterpolargl\":[{\"type\":\"scatterpolargl\",\"marker\":{\"colorbar\":{\"outlinewidth\":0,\"ticks\":\"\"}}}],\"bar\":[{\"error_x\":{\"color\":\"#2a3f5f\"},\"error_y\":{\"color\":\"#2a3f5f\"},\"marker\":{\"line\":{\"color\":\"#E5ECF6\",\"width\":0.5},\"pattern\":{\"fillmode\":\"overlay\",\"size\":10,\"solidity\":0.2}},\"type\":\"bar\"}],\"scattergeo\":[{\"type\":\"scattergeo\",\"marker\":{\"colorbar\":{\"outlinewidth\":0,\"ticks\":\"\"}}}],\"scatterpolar\":[{\"type\":\"scatterpolar\",\"marker\":{\"colorbar\":{\"outlinewidth\":0,\"ticks\":\"\"}}}],\"histogram\":[{\"marker\":{\"pattern\":{\"fillmode\":\"overlay\",\"size\":10,\"solidity\":0.2}},\"type\":\"histogram\"}],\"scattergl\":[{\"type\":\"scattergl\",\"marker\":{\"colorbar\":{\"outlinewidth\":0,\"ticks\":\"\"}}}],\"scatter3d\":[{\"type\":\"scatter3d\",\"line\":{\"colorbar\":{\"outlinewidth\":0,\"ticks\":\"\"}},\"marker\":{\"colorbar\":{\"outlinewidth\":0,\"ticks\":\"\"}}}],\"scattermapbox\":[{\"type\":\"scattermapbox\",\"marker\":{\"colorbar\":{\"outlinewidth\":0,\"ticks\":\"\"}}}],\"scatterternary\":[{\"type\":\"scatterternary\",\"marker\":{\"colorbar\":{\"outlinewidth\":0,\"ticks\":\"\"}}}],\"scattercarpet\":[{\"type\":\"scattercarpet\",\"marker\":{\"colorbar\":{\"outlinewidth\":0,\"ticks\":\"\"}}}],\"carpet\":[{\"aaxis\":{\"endlinecolor\":\"#2a3f5f\",\"gridcolor\":\"white\",\"linecolor\":\"white\",\"minorgridcolor\":\"white\",\"startlinecolor\":\"#2a3f5f\"},\"baxis\":{\"endlinecolor\":\"#2a3f5f\",\"gridcolor\":\"white\",\"linecolor\":\"white\",\"minorgridcolor\":\"white\",\"startlinecolor\":\"#2a3f5f\"},\"type\":\"carpet\"}],\"table\":[{\"cells\":{\"fill\":{\"color\":\"#EBF0F8\"},\"line\":{\"color\":\"white\"}},\"header\":{\"fill\":{\"color\":\"#C8D4E3\"},\"line\":{\"color\":\"white\"}},\"type\":\"table\"}],\"barpolar\":[{\"marker\":{\"line\":{\"color\":\"#E5ECF6\",\"width\":0.5},\"pattern\":{\"fillmode\":\"overlay\",\"size\":10,\"solidity\":0.2}},\"type\":\"barpolar\"}],\"pie\":[{\"automargin\":true,\"type\":\"pie\"}]},\"layout\":{\"autotypenumbers\":\"strict\",\"colorway\":[\"#636efa\",\"#EF553B\",\"#00cc96\",\"#ab63fa\",\"#FFA15A\",\"#19d3f3\",\"#FF6692\",\"#B6E880\",\"#FF97FF\",\"#FECB52\"],\"font\":{\"color\":\"#2a3f5f\"},\"hovermode\":\"closest\",\"hoverlabel\":{\"align\":\"left\"},\"paper_bgcolor\":\"white\",\"plot_bgcolor\":\"#E5ECF6\",\"polar\":{\"bgcolor\":\"#E5ECF6\",\"angularaxis\":{\"gridcolor\":\"white\",\"linecolor\":\"white\",\"ticks\":\"\"},\"radialaxis\":{\"gridcolor\":\"white\",\"linecolor\":\"white\",\"ticks\":\"\"}},\"ternary\":{\"bgcolor\":\"#E5ECF6\",\"aaxis\":{\"gridcolor\":\"white\",\"linecolor\":\"white\",\"ticks\":\"\"},\"baxis\":{\"gridcolor\":\"white\",\"linecolor\":\"white\",\"ticks\":\"\"},\"caxis\":{\"gridcolor\":\"white\",\"linecolor\":\"white\",\"ticks\":\"\"}},\"coloraxis\":{\"colorbar\":{\"outlinewidth\":0,\"ticks\":\"\"}},\"colorscale\":{\"sequential\":[[0.0,\"#0d0887\"],[0.1111111111111111,\"#46039f\"],[0.2222222222222222,\"#7201a8\"],[0.3333333333333333,\"#9c179e\"],[0.4444444444444444,\"#bd3786\"],[0.5555555555555556,\"#d8576b\"],[0.6666666666666666,\"#ed7953\"],[0.7777777777777778,\"#fb9f3a\"],[0.8888888888888888,\"#fdca26\"],[1.0,\"#f0f921\"]],\"sequentialminus\":[[0.0,\"#0d0887\"],[0.1111111111111111,\"#46039f\"],[0.2222222222222222,\"#7201a8\"],[0.3333333333333333,\"#9c179e\"],[0.4444444444444444,\"#bd3786\"],[0.5555555555555556,\"#d8576b\"],[0.6666666666666666,\"#ed7953\"],[0.7777777777777778,\"#fb9f3a\"],[0.8888888888888888,\"#fdca26\"],[1.0,\"#f0f921\"]],\"diverging\":[[0,\"#8e0152\"],[0.1,\"#c51b7d\"],[0.2,\"#de77ae\"],[0.3,\"#f1b6da\"],[0.4,\"#fde0ef\"],[0.5,\"#f7f7f7\"],[0.6,\"#e6f5d0\"],[0.7,\"#b8e186\"],[0.8,\"#7fbc41\"],[0.9,\"#4d9221\"],[1,\"#276419\"]]},\"xaxis\":{\"gridcolor\":\"white\",\"linecolor\":\"white\",\"ticks\":\"\",\"title\":{\"standoff\":15},\"zerolinecolor\":\"white\",\"automargin\":true,\"zerolinewidth\":2},\"yaxis\":{\"gridcolor\":\"white\",\"linecolor\":\"white\",\"ticks\":\"\",\"title\":{\"standoff\":15},\"zerolinecolor\":\"white\",\"automargin\":true,\"zerolinewidth\":2},\"scene\":{\"xaxis\":{\"backgroundcolor\":\"#E5ECF6\",\"gridcolor\":\"white\",\"linecolor\":\"white\",\"showbackground\":true,\"ticks\":\"\",\"zerolinecolor\":\"white\",\"gridwidth\":2},\"yaxis\":{\"backgroundcolor\":\"#E5ECF6\",\"gridcolor\":\"white\",\"linecolor\":\"white\",\"showbackground\":true,\"ticks\":\"\",\"zerolinecolor\":\"white\",\"gridwidth\":2},\"zaxis\":{\"backgroundcolor\":\"#E5ECF6\",\"gridcolor\":\"white\",\"linecolor\":\"white\",\"showbackground\":true,\"ticks\":\"\",\"zerolinecolor\":\"white\",\"gridwidth\":2}},\"shapedefaults\":{\"line\":{\"color\":\"#2a3f5f\"}},\"annotationdefaults\":{\"arrowcolor\":\"#2a3f5f\",\"arrowhead\":0,\"arrowwidth\":1},\"geo\":{\"bgcolor\":\"white\",\"landcolor\":\"#E5ECF6\",\"subunitcolor\":\"white\",\"showland\":true,\"showlakes\":true,\"lakecolor\":\"white\"},\"title\":{\"x\":0.05},\"mapbox\":{\"style\":\"light\"}}}},                        {\"responsive\": true}                    ).then(function(){\n",
       "                            Plotly.addFrames('f335a1bf-2447-409a-924b-ef117453fd88', [{\"data\":[{\"marker\":{\"size\":14},\"mode\":\"markers\",\"name\":\"Start\",\"text\":[\"Start\"],\"x\":[314.20673712159993],\"y\":[-159.25610726968026],\"type\":\"scatter\"},{\"marker\":{\"size\":14},\"mode\":\"markers\",\"name\":\"Intermediate\",\"text\":[\"Intermediate\",\"Intermediate\",\"Intermediate\"],\"x\":[247.9510832987924,181.26504487814523,98.58669516653883],\"y\":[-122.71169916368716,-79.57022380629613,-42.5863862318154],\"type\":\"scatter\"},{\"marker\":{\"size\":14},\"mode\":\"markers\",\"name\":\"Goal\",\"text\":[\"Goal\",\"Goal\",\"Goal\"],\"x\":[0.0],\"y\":[-0.0],\"type\":\"scatter\"},{\"marker\":{\"color\":\"red\",\"size\":14},\"mode\":\"markers\",\"name\":\"Boat\",\"text\":[\"Boat\"],\"x\":[312.34517749447855],\"y\":[-126.93168238699724],\"type\":\"scatter\"}],\"name\":\"Boat 0\"},{\"data\":[{\"marker\":{\"size\":14},\"mode\":\"markers\",\"name\":\"Start\",\"text\":[\"Start\"],\"x\":[314.20673712159993],\"y\":[-159.25610726968026],\"type\":\"scatter\"},{\"marker\":{\"size\":14},\"mode\":\"markers\",\"name\":\"Intermediate\",\"text\":[\"Intermediate\",\"Intermediate\",\"Intermediate\"],\"x\":[247.9510832987924,181.26504487814523,98.58669516653883],\"y\":[-122.71169916368716,-79.57022380629613,-42.5863862318154],\"type\":\"scatter\"},{\"marker\":{\"size\":14},\"mode\":\"markers\",\"name\":\"Goal\",\"text\":[\"Goal\",\"Goal\",\"Goal\"],\"x\":[0.0],\"y\":[-0.0],\"type\":\"scatter\"},{\"marker\":{\"color\":\"red\",\"size\":14},\"mode\":\"markers\",\"name\":\"Boat\",\"text\":[\"Boat\"],\"x\":[247.44133392136484],\"y\":[-111.59854737106747],\"type\":\"scatter\"}],\"name\":\"Boat 1\"},{\"data\":[{\"marker\":{\"size\":14},\"mode\":\"markers\",\"name\":\"Start\",\"text\":[\"Start\"],\"x\":[314.20673712159993],\"y\":[-159.25610726968026],\"type\":\"scatter\"},{\"marker\":{\"size\":14},\"mode\":\"markers\",\"name\":\"Intermediate\",\"text\":[\"Intermediate\",\"Intermediate\",\"Intermediate\"],\"x\":[247.9510832987924,181.26504487814523,98.58669516653883],\"y\":[-122.71169916368716,-79.57022380629613,-42.5863862318154],\"type\":\"scatter\"},{\"marker\":{\"size\":14},\"mode\":\"markers\",\"name\":\"Goal\",\"text\":[\"Goal\",\"Goal\",\"Goal\"],\"x\":[0.0],\"y\":[-0.0],\"type\":\"scatter\"},{\"marker\":{\"color\":\"red\",\"size\":14},\"mode\":\"markers\",\"name\":\"Boat\",\"text\":[\"Boat\"],\"x\":[174.09619607982765],\"y\":[-79.80945933956816],\"type\":\"scatter\"}],\"name\":\"Boat 2\"},{\"data\":[{\"marker\":{\"size\":14},\"mode\":\"markers\",\"name\":\"Start\",\"text\":[\"Start\"],\"x\":[314.20673712159993],\"y\":[-159.25610726968026],\"type\":\"scatter\"},{\"marker\":{\"size\":14},\"mode\":\"markers\",\"name\":\"Intermediate\",\"text\":[\"Intermediate\",\"Intermediate\",\"Intermediate\"],\"x\":[247.9510832987924,181.26504487814523,98.58669516653883],\"y\":[-122.71169916368716,-79.57022380629613,-42.5863862318154],\"type\":\"scatter\"},{\"marker\":{\"size\":14},\"mode\":\"markers\",\"name\":\"Goal\",\"text\":[\"Goal\",\"Goal\",\"Goal\"],\"x\":[0.0],\"y\":[-0.0],\"type\":\"scatter\"},{\"marker\":{\"color\":\"red\",\"size\":14},\"mode\":\"markers\",\"name\":\"Boat\",\"text\":[\"Boat\"],\"x\":[91.46762620443221],\"y\":[-42.71453762055684],\"type\":\"scatter\"}],\"name\":\"Boat 3\"},{\"data\":[{\"marker\":{\"size\":14},\"mode\":\"markers\",\"name\":\"Start\",\"text\":[\"Start\"],\"x\":[314.20673712159993],\"y\":[-159.25610726968026],\"type\":\"scatter\"},{\"marker\":{\"size\":14},\"mode\":\"markers\",\"name\":\"Intermediate\",\"text\":[\"Intermediate\",\"Intermediate\",\"Intermediate\"],\"x\":[247.9510832987924,181.26504487814523,98.58669516653883],\"y\":[-122.71169916368716,-79.57022380629613,-42.5863862318154],\"type\":\"scatter\"},{\"marker\":{\"size\":14},\"mode\":\"markers\",\"name\":\"Goal\",\"text\":[\"Goal\",\"Goal\",\"Goal\"],\"x\":[0.0],\"y\":[-0.0],\"type\":\"scatter\"},{\"marker\":{\"color\":\"red\",\"size\":14},\"mode\":\"markers\",\"name\":\"Boat\",\"text\":[\"Boat\"],\"x\":[-7.046511680402254],\"y\":[11.129154129285872],\"type\":\"scatter\"}],\"name\":\"Boat 4\"}]);\n",
       "                        }).then(function(){\n",
       "                            \n",
       "var gd = document.getElementById('f335a1bf-2447-409a-924b-ef117453fd88');\n",
       "var x = new MutationObserver(function (mutations, observer) {{\n",
       "        var display = window.getComputedStyle(gd).display;\n",
       "        if (!display || display === 'none') {{\n",
       "            console.log([gd, 'removed!']);\n",
       "            Plotly.purge(gd);\n",
       "            observer.disconnect();\n",
       "        }}\n",
       "}});\n",
       "\n",
       "// Listen for the removal of the full notebook cells\n",
       "var notebookContainer = gd.closest('#notebook-container');\n",
       "if (notebookContainer) {{\n",
       "    x.observe(notebookContainer, {childList: true});\n",
       "}}\n",
       "\n",
       "// Listen for the clearing of the current output cell\n",
       "var outputEl = gd.closest('.output');\n",
       "if (outputEl) {{\n",
       "    x.observe(outputEl, {childList: true});\n",
       "}}\n",
       "\n",
       "                        })                };                });            </script>        </div>"
      ]
     },
     "metadata": {},
     "output_type": "display_data"
    }
   ],
   "source": [
    "# Initial plot\n",
    "center_index = len(local_waypoints_xy) // 2\n",
    "initial_boat_state = go.Scatter(\n",
    "    x=[boat_history_xy[0][\"position\"].x],\n",
    "    y=[boat_history_xy[0][\"position\"].y],\n",
    "    mode=\"markers\",\n",
    "    marker=go.scatter.Marker(size=14, color=\"red\"),\n",
    "    text=[\"Boat\"],\n",
    "    name=\"Boat\",\n",
    ")\n",
    "initial_state = [\n",
    "    go.Scatter(\n",
    "        x=[waypoints_x[0]],\n",
    "        y=[waypoints_y[0]],\n",
    "        mode=\"markers\",\n",
    "        marker=go.scatter.Marker(size=14),\n",
    "        text=[\"Start\"],\n",
    "        name=\"Start\",\n",
    "    ),\n",
    "    go.Scatter(\n",
    "        x=waypoints_x[1 : len(local_waypoints_lat_lon.waypoints) - 1],\n",
    "        y=waypoints_y[1 : len(local_waypoints_lat_lon.waypoints) - 1],\n",
    "        mode=\"markers\",\n",
    "        marker=go.scatter.Marker(size=14),\n",
    "        text=[\"Intermediate\"] * (len(local_waypoints_lat_lon.waypoints) - 2),\n",
    "        name=\"Intermediate\",\n",
    "    ),\n",
    "    go.Scatter(\n",
    "        x=[waypoints_x[-1]],\n",
    "        y=[waypoints_y[-1]],\n",
    "        mode=\"markers\",\n",
    "        marker=go.scatter.Marker(size=14),\n",
    "        text=[\"Goal\"] * (len(local_waypoints_lat_lon.waypoints) - 2),\n",
    "        name=\"Goal\",\n",
    "    ),\n",
    "]\n",
    "new_frames = [\n",
    "    go.Frame(\n",
    "        data=initial_state\n",
    "        + [\n",
    "            go.Scatter(\n",
    "                x=[boat_history_xy[i][\"position\"].x],\n",
    "                y=[boat_history_xy[i][\"position\"].y],\n",
    "                mode=\"markers\",\n",
    "                marker=go.scatter.Marker(size=14, color=\"red\"),\n",
    "                text=[\"Boat\"],\n",
    "                name=\"Boat\",\n",
    "            )\n",
    "        ],\n",
    "        name=f\"Boat {i}\",\n",
    "    )\n",
    "    for i in range(0, len(boat_history_xy))\n",
    "]\n",
    "fig = go.Figure(\n",
    "    data=initial_state + [initial_boat_state],\n",
    "    layout=go.Layout(\n",
    "        mapbox_style=\"open-street-map\",\n",
    "        mapbox_zoom=7,\n",
    "        mapbox_center={\"lat\": waypoints_x[center_index], \"lon\": waypoints_y[center_index]},\n",
    "        margin={\"r\": 0, \"t\": 0, \"l\": 0, \"b\": 0},\n",
    "        xaxis=dict(title=\"X\"),\n",
    "        yaxis=dict(title=\"Y\"),\n",
    "        updatemenus=[\n",
    "            dict(\n",
    "                type=\"buttons\",\n",
    "                showactive=False,\n",
    "                buttons=[\n",
    "                    dict(\n",
    "                        label=\"Play\",\n",
    "                        method=\"animate\",\n",
    "                        args=[\n",
    "                            None,\n",
    "                            {\"frame\": {\"duration\": 1000, \"redraw\": True}, \"mode\": \"immediate\"},\n",
    "                        ],\n",
    "                    ),\n",
    "                    dict(\n",
    "                        label=\"Pause\",\n",
    "                        method=\"animate\",\n",
    "                        args=[\n",
    "                            [None],\n",
    "                            {\"frame\": {\"duration\": 0, \"redraw\": True}, \"mode\": \"immediate\"},\n",
    "                        ],\n",
    "                    ),\n",
    "                ],\n",
    "            )\n",
    "        ],\n",
    "    ),\n",
    "    frames=new_frames,\n",
    ")\n",
    "\n",
    "fig.show()"
   ]
  }
 ],
 "metadata": {
  "kernelspec": {
   "display_name": "Python 3",
   "language": "python",
   "name": "python3"
  },
  "language_info": {
   "codemirror_mode": {
    "name": "ipython",
    "version": 3
   },
   "file_extension": ".py",
   "mimetype": "text/x-python",
   "name": "python",
   "nbconvert_exporter": "python",
   "pygments_lexer": "ipython3",
   "version": "3.10.12"
  }
 },
 "nbformat": 4,
 "nbformat_minor": 5
}
